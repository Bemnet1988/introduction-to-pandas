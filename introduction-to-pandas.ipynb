{
 "cells": [
  {
   "cell_type": "markdown",
   "metadata": {},
   "source": [
    "# pandas"
   ]
  },
  {
   "cell_type": "markdown",
   "metadata": {},
   "source": [
    "This workshop's goal&mdash;which is facilitated by this Jupyter notebook&mdash;is to give attendees the confidence to use `pandas` in their research projects. Basic familiarity with Python *is* assumed.\n",
    "\n",
    "`pandas` is designed to make it easier to work with structured data. Most of the analyses you might perform will likely involve using tabular data, e.g., from .csv files or relational databases (e.g., SQL). The `DataFrame` object in `pandas` is \"a two-dimensional tabular, column-oriented data structure with both row and column labels.\"\n",
    "\n",
    "If you're curious:\n",
    "\n",
    ">The `pandas` name itself is derived from *panel data*, an econometrics term for multidimensional structured data sets, and *Python data analysis* itself.\n",
    "\n",
    "To motivate this workshop, we'll work with example data and go through the various steps you might need to prepare data for analysis. You'll (hopefully) realize that doing this type of work is much more difficult using Python's built-in data structures.\n",
    "\n",
    "The data used in these examples is available in the following [GitHub repository](https://github.com/juanshishido/introduction-to-pandas). If you've [cloned that repo](https://www.atlassian.com/git/tutorials/setting-up-a-repository/git-clone), which is the recommended approach, you'll have everything you need to run this notebook. Otherwise, you can download the data file(s) from the above link. (Note: this notebook assumes that the data files are in a directory named `data/` found within your current working directory.)\n",
    "\n",
    "For this example, we're working with European unemployment data from Eurostat, which is hosted by [Google](https://code.google.com/p/dspl/downloads/list). There are several .csv files that we'll work with in this workshop.\n",
    "\n",
    "Let's begin by importing `pandas` using the conventional abbreviation."
   ]
  },
  {
   "cell_type": "code",
   "execution_count": 1,
   "metadata": {
    "collapsed": true
   },
   "outputs": [],
   "source": [
    "%matplotlib inline\n",
    "\n",
    "import pandas as pd\n",
    "import matplotlib.pyplot as plt\n",
    "\n",
    "plt.style.use('ggplot')"
   ]
  },
  {
   "cell_type": "markdown",
   "metadata": {},
   "source": [
    "The `read_csv()` function in `pandas` allows us to easily import our data. By default, it assumes the data is comma-delimited. However, you can specify the delimiter used in your data (e.g., tab, semicolon, pipe, etc.). There are several parameters that you can specify. See the documentation [here](http://pandas.pydata.org/pandas-docs/stable/generated/pandas.read_csv.html). `read_csv()` returns a `DataFrame`.\n",
    "\n",
    "Notice that we call `read_csv()` using the `pd` abbreviation from the import statement above."
   ]
  },
  {
   "cell_type": "code",
   "execution_count": 2,
   "metadata": {
    "collapsed": false
   },
   "outputs": [],
   "source": [
    "unemployment = pd.read_csv('data/country_total.csv')"
   ]
  },
  {
   "cell_type": "markdown",
   "metadata": {},
   "source": [
    "Great! You've created a `pandas` `DataFrame`. We can look at our data by using the `.head()` method. By default, this shows the header (column names) and the first five rows. Passing an integer, $n$, to `.head()` returns that number of rows. To see the last $n$ rows, use `.tail()`."
   ]
  },
  {
   "cell_type": "code",
   "execution_count": 3,
   "metadata": {
    "collapsed": false
   },
   "outputs": [
    {
     "data": {
      "text/html": [
       "<div>\n",
       "<table border=\"1\" class=\"dataframe\">\n",
       "  <thead>\n",
       "    <tr style=\"text-align: right;\">\n",
       "      <th></th>\n",
       "      <th>country</th>\n",
       "      <th>seasonality</th>\n",
       "      <th>month</th>\n",
       "      <th>unemployment</th>\n",
       "      <th>unemployment_rate</th>\n",
       "    </tr>\n",
       "  </thead>\n",
       "  <tbody>\n",
       "    <tr>\n",
       "      <th>0</th>\n",
       "      <td>at</td>\n",
       "      <td>nsa</td>\n",
       "      <td>1993.01</td>\n",
       "      <td>171000</td>\n",
       "      <td>4.5</td>\n",
       "    </tr>\n",
       "    <tr>\n",
       "      <th>1</th>\n",
       "      <td>at</td>\n",
       "      <td>nsa</td>\n",
       "      <td>1993.02</td>\n",
       "      <td>175000</td>\n",
       "      <td>4.6</td>\n",
       "    </tr>\n",
       "    <tr>\n",
       "      <th>2</th>\n",
       "      <td>at</td>\n",
       "      <td>nsa</td>\n",
       "      <td>1993.03</td>\n",
       "      <td>166000</td>\n",
       "      <td>4.4</td>\n",
       "    </tr>\n",
       "    <tr>\n",
       "      <th>3</th>\n",
       "      <td>at</td>\n",
       "      <td>nsa</td>\n",
       "      <td>1993.04</td>\n",
       "      <td>157000</td>\n",
       "      <td>4.1</td>\n",
       "    </tr>\n",
       "    <tr>\n",
       "      <th>4</th>\n",
       "      <td>at</td>\n",
       "      <td>nsa</td>\n",
       "      <td>1993.05</td>\n",
       "      <td>147000</td>\n",
       "      <td>3.9</td>\n",
       "    </tr>\n",
       "  </tbody>\n",
       "</table>\n",
       "</div>"
      ],
      "text/plain": [
       "  country seasonality    month  unemployment  unemployment_rate\n",
       "0      at         nsa  1993.01        171000                4.5\n",
       "1      at         nsa  1993.02        175000                4.6\n",
       "2      at         nsa  1993.03        166000                4.4\n",
       "3      at         nsa  1993.04        157000                4.1\n",
       "4      at         nsa  1993.05        147000                3.9"
      ]
     },
     "execution_count": 3,
     "metadata": {},
     "output_type": "execute_result"
    }
   ],
   "source": [
    "unemployment.head()"
   ]
  },
  {
   "cell_type": "markdown",
   "metadata": {},
   "source": [
    "To find the number of rows, you can use the `len()` function. Alternatively, you can use the `shape` attribute."
   ]
  },
  {
   "cell_type": "code",
   "execution_count": 4,
   "metadata": {
    "collapsed": false
   },
   "outputs": [
    {
     "data": {
      "text/plain": [
       "(20796, 5)"
      ]
     },
     "execution_count": 4,
     "metadata": {},
     "output_type": "execute_result"
    }
   ],
   "source": [
    "unemployment.shape"
   ]
  },
  {
   "cell_type": "markdown",
   "metadata": {},
   "source": [
    "There are 20,796 rows and 5 columns.\n",
    "\n",
    "You may have noticed that the `month` column also includes the year. Let's go ahead and rename it."
   ]
  },
  {
   "cell_type": "code",
   "execution_count": 5,
   "metadata": {
    "collapsed": true
   },
   "outputs": [],
   "source": [
    "unemployment.rename(columns={'month' : 'year_month'}, inplace=True)"
   ]
  },
  {
   "cell_type": "markdown",
   "metadata": {},
   "source": [
    "The `.rename()` method allows you to modify index labels and/or column names. As you can see, we passed a `dict` to the `columns` parameter, with the original name as the key and the new name as the value. Importantly, we also set the `inplace` parameter to `True`, which modifies the *actual* `DataFrame`, not a copy of it.\n",
    "\n",
    "It might also make sense to separate the data in `year_month` into two separate columns. To do this, you'll need to know how to select a single column. We can either use bracket (`[]`) or dot notation (referred to as *attribute access*)."
   ]
  },
  {
   "cell_type": "code",
   "execution_count": 6,
   "metadata": {
    "collapsed": false
   },
   "outputs": [
    {
     "data": {
      "text/plain": [
       "0    1993.01\n",
       "1    1993.02\n",
       "2    1993.03\n",
       "3    1993.04\n",
       "4    1993.05\n",
       "Name: year_month, dtype: float64"
      ]
     },
     "execution_count": 6,
     "metadata": {},
     "output_type": "execute_result"
    }
   ],
   "source": [
    "unemployment['year_month'].head()"
   ]
  },
  {
   "cell_type": "code",
   "execution_count": 7,
   "metadata": {
    "collapsed": false
   },
   "outputs": [
    {
     "data": {
      "text/plain": [
       "0    1993.01\n",
       "1    1993.02\n",
       "2    1993.03\n",
       "3    1993.04\n",
       "4    1993.05\n",
       "Name: year_month, dtype: float64"
      ]
     },
     "execution_count": 7,
     "metadata": {},
     "output_type": "execute_result"
    }
   ],
   "source": [
    "unemployment.year_month.head()"
   ]
  },
  {
   "cell_type": "markdown",
   "metadata": {},
   "source": [
    "It is preferrable to use the bracket notation as a column name might inadvertently have the same name as a `DataFrame` (or `Series`) method. In addition, only bracket notation can be used to create a new column. If you try and use attribute access to create a new column, you'll create a new attribute, *not* a new column.\n",
    "\n",
    "When selecting a single column, we have a `pandas` `Series` object, which is a single vector of data (e.g., a NumPy array) with \"an associated array of data labels, called its *index*.\" A `DataFrame` also has an index. In our example, the indices are an array of sequential integers, which is the default. You can find them in the left-most position, without a column label.\n",
    "\n",
    "Indices need not be a sequence of integers. They can, for example, be dates or strings. Note that indices do *not* need to be unique.\n",
    "\n",
    "Indices, like column names, can be used to select data. Indices can be used to select particular rows. In fact, you can do something like `.head()` with slicing using the `[]` operator."
   ]
  },
  {
   "cell_type": "code",
   "execution_count": 8,
   "metadata": {
    "collapsed": false
   },
   "outputs": [
    {
     "data": {
      "text/html": [
       "<div>\n",
       "<table border=\"1\" class=\"dataframe\">\n",
       "  <thead>\n",
       "    <tr style=\"text-align: right;\">\n",
       "      <th></th>\n",
       "      <th>country</th>\n",
       "      <th>seasonality</th>\n",
       "      <th>year_month</th>\n",
       "      <th>unemployment</th>\n",
       "      <th>unemployment_rate</th>\n",
       "    </tr>\n",
       "  </thead>\n",
       "  <tbody>\n",
       "    <tr>\n",
       "      <th>0</th>\n",
       "      <td>at</td>\n",
       "      <td>nsa</td>\n",
       "      <td>1993.01</td>\n",
       "      <td>171000</td>\n",
       "      <td>4.5</td>\n",
       "    </tr>\n",
       "    <tr>\n",
       "      <th>1</th>\n",
       "      <td>at</td>\n",
       "      <td>nsa</td>\n",
       "      <td>1993.02</td>\n",
       "      <td>175000</td>\n",
       "      <td>4.6</td>\n",
       "    </tr>\n",
       "    <tr>\n",
       "      <th>2</th>\n",
       "      <td>at</td>\n",
       "      <td>nsa</td>\n",
       "      <td>1993.03</td>\n",
       "      <td>166000</td>\n",
       "      <td>4.4</td>\n",
       "    </tr>\n",
       "    <tr>\n",
       "      <th>3</th>\n",
       "      <td>at</td>\n",
       "      <td>nsa</td>\n",
       "      <td>1993.04</td>\n",
       "      <td>157000</td>\n",
       "      <td>4.1</td>\n",
       "    </tr>\n",
       "    <tr>\n",
       "      <th>4</th>\n",
       "      <td>at</td>\n",
       "      <td>nsa</td>\n",
       "      <td>1993.05</td>\n",
       "      <td>147000</td>\n",
       "      <td>3.9</td>\n",
       "    </tr>\n",
       "  </tbody>\n",
       "</table>\n",
       "</div>"
      ],
      "text/plain": [
       "  country seasonality  year_month  unemployment  unemployment_rate\n",
       "0      at         nsa     1993.01        171000                4.5\n",
       "1      at         nsa     1993.02        175000                4.6\n",
       "2      at         nsa     1993.03        166000                4.4\n",
       "3      at         nsa     1993.04        157000                4.1\n",
       "4      at         nsa     1993.05        147000                3.9"
      ]
     },
     "execution_count": 8,
     "metadata": {},
     "output_type": "execute_result"
    }
   ],
   "source": [
    "unemployment[:5]"
   ]
  },
  {
   "cell_type": "markdown",
   "metadata": {},
   "source": [
    "---"
   ]
  },
  {
   "cell_type": "markdown",
   "metadata": {},
   "source": [
    "### More on Indexing"
   ]
  },
  {
   "cell_type": "markdown",
   "metadata": {},
   "source": [
    "Before we continue, let's look at a few useful ways to index data&mdash;that is, select rows.\n",
    "\n",
    "`.loc` primarily works with string labels. It accepts a single label, a list (or array) of labels, or a slice of labels (e.g., `'a' : 'f'`).\n",
    "\n",
    "Let's create a `DataFrame` to see how this works. (This is based on an [example](https://github.com/fonnesbeck/scipy2015_tutorial/blob/master/notebooks/1.%20Data%20Preparation.ipynb) from Chris Fonnesbeck's [Computational Statistics II Tutorial](https://github.com/fonnesbeck/scipy2015_tutorial).)"
   ]
  },
  {
   "cell_type": "code",
   "execution_count": 9,
   "metadata": {
    "collapsed": false
   },
   "outputs": [],
   "source": [
    "bacteria = pd.DataFrame({'bacteria_counts' : [632, 1638, 569, 115],\n",
    "                         'other_feature' : [438, 833, 234, 298]},\n",
    "                         index=['Firmicutes', 'Proteobacteria', 'Actinobacteria', 'Bacteroidetes'])"
   ]
  },
  {
   "cell_type": "markdown",
   "metadata": {},
   "source": [
    "Notice that we pass in a `dict`, where the keys correspond to column names and the values to the data. In this example, we've also set the indices&mdash;strings in this case&mdash;to be the taxon of each bacterium."
   ]
  },
  {
   "cell_type": "code",
   "execution_count": 10,
   "metadata": {
    "collapsed": false
   },
   "outputs": [
    {
     "data": {
      "text/html": [
       "<div>\n",
       "<table border=\"1\" class=\"dataframe\">\n",
       "  <thead>\n",
       "    <tr style=\"text-align: right;\">\n",
       "      <th></th>\n",
       "      <th>bacteria_counts</th>\n",
       "      <th>other_feature</th>\n",
       "    </tr>\n",
       "  </thead>\n",
       "  <tbody>\n",
       "    <tr>\n",
       "      <th>Firmicutes</th>\n",
       "      <td>632</td>\n",
       "      <td>438</td>\n",
       "    </tr>\n",
       "    <tr>\n",
       "      <th>Proteobacteria</th>\n",
       "      <td>1638</td>\n",
       "      <td>833</td>\n",
       "    </tr>\n",
       "    <tr>\n",
       "      <th>Actinobacteria</th>\n",
       "      <td>569</td>\n",
       "      <td>234</td>\n",
       "    </tr>\n",
       "    <tr>\n",
       "      <th>Bacteroidetes</th>\n",
       "      <td>115</td>\n",
       "      <td>298</td>\n",
       "    </tr>\n",
       "  </tbody>\n",
       "</table>\n",
       "</div>"
      ],
      "text/plain": [
       "                bacteria_counts  other_feature\n",
       "Firmicutes                  632            438\n",
       "Proteobacteria             1638            833\n",
       "Actinobacteria              569            234\n",
       "Bacteroidetes               115            298"
      ]
     },
     "execution_count": 10,
     "metadata": {},
     "output_type": "execute_result"
    }
   ],
   "source": [
    "bacteria"
   ]
  },
  {
   "cell_type": "markdown",
   "metadata": {},
   "source": [
    "Now, if we're interested in the values (row) associated with \"Actinobacteria,\" we can use `.loc` and the index name."
   ]
  },
  {
   "cell_type": "code",
   "execution_count": 11,
   "metadata": {
    "collapsed": false
   },
   "outputs": [
    {
     "data": {
      "text/plain": [
       "bacteria_counts    569\n",
       "other_feature      234\n",
       "Name: Actinobacteria, dtype: int64"
      ]
     },
     "execution_count": 11,
     "metadata": {},
     "output_type": "execute_result"
    }
   ],
   "source": [
    "bacteria.loc['Actinobacteria']"
   ]
  },
  {
   "cell_type": "markdown",
   "metadata": {},
   "source": [
    "This returns the column values for the specified row. Interestingly, we could have also used \"positional indexing,\" even though the indices are strings."
   ]
  },
  {
   "cell_type": "code",
   "execution_count": 12,
   "metadata": {
    "collapsed": false
   },
   "outputs": [
    {
     "data": {
      "text/html": [
       "<div>\n",
       "<table border=\"1\" class=\"dataframe\">\n",
       "  <thead>\n",
       "    <tr style=\"text-align: right;\">\n",
       "      <th></th>\n",
       "      <th>bacteria_counts</th>\n",
       "      <th>other_feature</th>\n",
       "    </tr>\n",
       "  </thead>\n",
       "  <tbody>\n",
       "    <tr>\n",
       "      <th>Actinobacteria</th>\n",
       "      <td>569</td>\n",
       "      <td>234</td>\n",
       "    </tr>\n",
       "  </tbody>\n",
       "</table>\n",
       "</div>"
      ],
      "text/plain": [
       "                bacteria_counts  other_feature\n",
       "Actinobacteria              569            234"
      ]
     },
     "execution_count": 12,
     "metadata": {},
     "output_type": "execute_result"
    }
   ],
   "source": [
    "bacteria[2:3]"
   ]
  },
  {
   "cell_type": "markdown",
   "metadata": {},
   "source": [
    "The difference is that the former returns a `Series`, while the latter returns a `DataFrame`.\n",
    "\n",
    "Let's return to our unemployment data. Another indexing option, `.iloc`, primarily works with integer positions. To select specific rows, we can do the following."
   ]
  },
  {
   "cell_type": "code",
   "execution_count": 13,
   "metadata": {
    "collapsed": false
   },
   "outputs": [
    {
     "data": {
      "text/html": [
       "<div>\n",
       "<table border=\"1\" class=\"dataframe\">\n",
       "  <thead>\n",
       "    <tr style=\"text-align: right;\">\n",
       "      <th></th>\n",
       "      <th>country</th>\n",
       "      <th>seasonality</th>\n",
       "      <th>year_month</th>\n",
       "      <th>unemployment</th>\n",
       "      <th>unemployment_rate</th>\n",
       "    </tr>\n",
       "  </thead>\n",
       "  <tbody>\n",
       "    <tr>\n",
       "      <th>1</th>\n",
       "      <td>at</td>\n",
       "      <td>nsa</td>\n",
       "      <td>1993.02</td>\n",
       "      <td>175000</td>\n",
       "      <td>4.6</td>\n",
       "    </tr>\n",
       "    <tr>\n",
       "      <th>5</th>\n",
       "      <td>at</td>\n",
       "      <td>nsa</td>\n",
       "      <td>1993.06</td>\n",
       "      <td>134000</td>\n",
       "      <td>3.5</td>\n",
       "    </tr>\n",
       "    <tr>\n",
       "      <th>6</th>\n",
       "      <td>at</td>\n",
       "      <td>nsa</td>\n",
       "      <td>1993.07</td>\n",
       "      <td>128000</td>\n",
       "      <td>3.4</td>\n",
       "    </tr>\n",
       "    <tr>\n",
       "      <th>9</th>\n",
       "      <td>at</td>\n",
       "      <td>nsa</td>\n",
       "      <td>1993.10</td>\n",
       "      <td>141000</td>\n",
       "      <td>3.7</td>\n",
       "    </tr>\n",
       "  </tbody>\n",
       "</table>\n",
       "</div>"
      ],
      "text/plain": [
       "  country seasonality  year_month  unemployment  unemployment_rate\n",
       "1      at         nsa     1993.02        175000                4.6\n",
       "5      at         nsa     1993.06        134000                3.5\n",
       "6      at         nsa     1993.07        128000                3.4\n",
       "9      at         nsa     1993.10        141000                3.7"
      ]
     },
     "execution_count": 13,
     "metadata": {},
     "output_type": "execute_result"
    }
   ],
   "source": [
    "unemployment.iloc[[1, 5, 6, 9]]"
   ]
  },
  {
   "cell_type": "markdown",
   "metadata": {},
   "source": [
    "We can select a range of rows and specify the step value."
   ]
  },
  {
   "cell_type": "code",
   "execution_count": 14,
   "metadata": {
    "collapsed": false
   },
   "outputs": [
    {
     "data": {
      "text/html": [
       "<div>\n",
       "<table border=\"1\" class=\"dataframe\">\n",
       "  <thead>\n",
       "    <tr style=\"text-align: right;\">\n",
       "      <th></th>\n",
       "      <th>country</th>\n",
       "      <th>seasonality</th>\n",
       "      <th>year_month</th>\n",
       "      <th>unemployment</th>\n",
       "      <th>unemployment_rate</th>\n",
       "    </tr>\n",
       "  </thead>\n",
       "  <tbody>\n",
       "    <tr>\n",
       "      <th>25</th>\n",
       "      <td>at</td>\n",
       "      <td>nsa</td>\n",
       "      <td>1995.02</td>\n",
       "      <td>174000</td>\n",
       "      <td>4.5</td>\n",
       "    </tr>\n",
       "    <tr>\n",
       "      <th>30</th>\n",
       "      <td>at</td>\n",
       "      <td>nsa</td>\n",
       "      <td>1995.07</td>\n",
       "      <td>123000</td>\n",
       "      <td>3.3</td>\n",
       "    </tr>\n",
       "    <tr>\n",
       "      <th>35</th>\n",
       "      <td>at</td>\n",
       "      <td>nsa</td>\n",
       "      <td>1995.12</td>\n",
       "      <td>175000</td>\n",
       "      <td>4.7</td>\n",
       "    </tr>\n",
       "    <tr>\n",
       "      <th>40</th>\n",
       "      <td>at</td>\n",
       "      <td>nsa</td>\n",
       "      <td>1996.05</td>\n",
       "      <td>159000</td>\n",
       "      <td>4.3</td>\n",
       "    </tr>\n",
       "    <tr>\n",
       "      <th>45</th>\n",
       "      <td>at</td>\n",
       "      <td>nsa</td>\n",
       "      <td>1996.10</td>\n",
       "      <td>146000</td>\n",
       "      <td>3.9</td>\n",
       "    </tr>\n",
       "  </tbody>\n",
       "</table>\n",
       "</div>"
      ],
      "text/plain": [
       "   country seasonality  year_month  unemployment  unemployment_rate\n",
       "25      at         nsa     1995.02        174000                4.5\n",
       "30      at         nsa     1995.07        123000                3.3\n",
       "35      at         nsa     1995.12        175000                4.7\n",
       "40      at         nsa     1996.05        159000                4.3\n",
       "45      at         nsa     1996.10        146000                3.9"
      ]
     },
     "execution_count": 14,
     "metadata": {},
     "output_type": "execute_result"
    }
   ],
   "source": [
    "unemployment.iloc[25:50:5]"
   ]
  },
  {
   "cell_type": "markdown",
   "metadata": {},
   "source": [
    "(Note: As is typical in Python, the end position is not included. Therefore, we don't see the row associated with the index 50.)\n",
    "\n",
    "Indexing is important. You'll use it a lot. Below, we'll show how to index based on data values."
   ]
  },
  {
   "cell_type": "markdown",
   "metadata": {},
   "source": [
    "---"
   ]
  },
  {
   "cell_type": "markdown",
   "metadata": {},
   "source": [
    "So, we still want to split `year_month` into two separate columns. Above, we saw that this column is type (technically, `dtype`) `float64`. We'll first extract the year using the `.astype()` method. This allows for type casting&mdash;basically converting from one type to another. We'll then subtract this value from `year_month`&mdash;to get the decimal portion of the value&mdash;and multiply the result by 100 and convert to `int`.\n",
    "\n",
    "For more information on `pandas` `dtype`s, check the documentation [here](http://pandas.pydata.org/pandas-docs/stable/basics.html#dtypes)."
   ]
  },
  {
   "cell_type": "code",
   "execution_count": 15,
   "metadata": {
    "collapsed": false
   },
   "outputs": [],
   "source": [
    "unemployment['year'] = unemployment['year_month'].astype(int)"
   ]
  },
  {
   "cell_type": "markdown",
   "metadata": {},
   "source": [
    "In this case, we're casting the floating point values to integers. In Python, this [truncates the decimals](https://docs.python.org/2/library/stdtypes.html#numeric-types-int-float-long-complex).\n",
    "\n",
    "If you didn't know this, you could have used NumPy's `floor()` function, as follows.\n",
    "\n",
    "```\n",
    "import numpy as np\n",
    "\n",
    "unemployment['year'] = (np.floor(unemployment['year_month'])).astype(int)\n",
    "```\n",
    "\n",
    "Additionally, if you wanted to check whether the two approaches shown above result in the same set of values, you could something like the following.\n",
    "\n",
    "```\n",
    "(unemployment['year_month'].astype(int) == (np.floor(unemployment['year_month'])).astype(int)).all()\n",
    "```\n",
    "\n",
    "What this does is an element-wise comparison of the values in the corresponding arrays. The `.all()` method checks whether *all* elements are `True`.\n",
    "\n",
    "Finally, let's create our month variable as described above. (Because of the truncating that occurs when casting to `int`, we first round the values to the nearest whole number.)"
   ]
  },
  {
   "cell_type": "code",
   "execution_count": 16,
   "metadata": {
    "collapsed": true
   },
   "outputs": [],
   "source": [
    "unemployment['month'] = ((unemployment['year_month'] - unemployment['year']) * 100).round(0).astype(int)"
   ]
  },
  {
   "cell_type": "code",
   "execution_count": 17,
   "metadata": {
    "collapsed": false
   },
   "outputs": [
    {
     "data": {
      "text/html": [
       "<div>\n",
       "<table border=\"1\" class=\"dataframe\">\n",
       "  <thead>\n",
       "    <tr style=\"text-align: right;\">\n",
       "      <th></th>\n",
       "      <th>country</th>\n",
       "      <th>seasonality</th>\n",
       "      <th>year_month</th>\n",
       "      <th>unemployment</th>\n",
       "      <th>unemployment_rate</th>\n",
       "      <th>year</th>\n",
       "      <th>month</th>\n",
       "    </tr>\n",
       "  </thead>\n",
       "  <tbody>\n",
       "    <tr>\n",
       "      <th>0</th>\n",
       "      <td>at</td>\n",
       "      <td>nsa</td>\n",
       "      <td>1993.01</td>\n",
       "      <td>171000</td>\n",
       "      <td>4.5</td>\n",
       "      <td>1993</td>\n",
       "      <td>1</td>\n",
       "    </tr>\n",
       "    <tr>\n",
       "      <th>1</th>\n",
       "      <td>at</td>\n",
       "      <td>nsa</td>\n",
       "      <td>1993.02</td>\n",
       "      <td>175000</td>\n",
       "      <td>4.6</td>\n",
       "      <td>1993</td>\n",
       "      <td>2</td>\n",
       "    </tr>\n",
       "    <tr>\n",
       "      <th>2</th>\n",
       "      <td>at</td>\n",
       "      <td>nsa</td>\n",
       "      <td>1993.03</td>\n",
       "      <td>166000</td>\n",
       "      <td>4.4</td>\n",
       "      <td>1993</td>\n",
       "      <td>3</td>\n",
       "    </tr>\n",
       "    <tr>\n",
       "      <th>3</th>\n",
       "      <td>at</td>\n",
       "      <td>nsa</td>\n",
       "      <td>1993.04</td>\n",
       "      <td>157000</td>\n",
       "      <td>4.1</td>\n",
       "      <td>1993</td>\n",
       "      <td>4</td>\n",
       "    </tr>\n",
       "    <tr>\n",
       "      <th>4</th>\n",
       "      <td>at</td>\n",
       "      <td>nsa</td>\n",
       "      <td>1993.05</td>\n",
       "      <td>147000</td>\n",
       "      <td>3.9</td>\n",
       "      <td>1993</td>\n",
       "      <td>5</td>\n",
       "    </tr>\n",
       "    <tr>\n",
       "      <th>5</th>\n",
       "      <td>at</td>\n",
       "      <td>nsa</td>\n",
       "      <td>1993.06</td>\n",
       "      <td>134000</td>\n",
       "      <td>3.5</td>\n",
       "      <td>1993</td>\n",
       "      <td>6</td>\n",
       "    </tr>\n",
       "    <tr>\n",
       "      <th>6</th>\n",
       "      <td>at</td>\n",
       "      <td>nsa</td>\n",
       "      <td>1993.07</td>\n",
       "      <td>128000</td>\n",
       "      <td>3.4</td>\n",
       "      <td>1993</td>\n",
       "      <td>7</td>\n",
       "    </tr>\n",
       "    <tr>\n",
       "      <th>7</th>\n",
       "      <td>at</td>\n",
       "      <td>nsa</td>\n",
       "      <td>1993.08</td>\n",
       "      <td>130000</td>\n",
       "      <td>3.4</td>\n",
       "      <td>1993</td>\n",
       "      <td>8</td>\n",
       "    </tr>\n",
       "    <tr>\n",
       "      <th>8</th>\n",
       "      <td>at</td>\n",
       "      <td>nsa</td>\n",
       "      <td>1993.09</td>\n",
       "      <td>132000</td>\n",
       "      <td>3.5</td>\n",
       "      <td>1993</td>\n",
       "      <td>9</td>\n",
       "    </tr>\n",
       "    <tr>\n",
       "      <th>9</th>\n",
       "      <td>at</td>\n",
       "      <td>nsa</td>\n",
       "      <td>1993.10</td>\n",
       "      <td>141000</td>\n",
       "      <td>3.7</td>\n",
       "      <td>1993</td>\n",
       "      <td>10</td>\n",
       "    </tr>\n",
       "    <tr>\n",
       "      <th>10</th>\n",
       "      <td>at</td>\n",
       "      <td>nsa</td>\n",
       "      <td>1993.11</td>\n",
       "      <td>156000</td>\n",
       "      <td>4.1</td>\n",
       "      <td>1993</td>\n",
       "      <td>11</td>\n",
       "    </tr>\n",
       "    <tr>\n",
       "      <th>11</th>\n",
       "      <td>at</td>\n",
       "      <td>nsa</td>\n",
       "      <td>1993.12</td>\n",
       "      <td>169000</td>\n",
       "      <td>4.4</td>\n",
       "      <td>1993</td>\n",
       "      <td>12</td>\n",
       "    </tr>\n",
       "  </tbody>\n",
       "</table>\n",
       "</div>"
      ],
      "text/plain": [
       "   country seasonality  year_month  unemployment  unemployment_rate  year  \\\n",
       "0       at         nsa     1993.01        171000                4.5  1993   \n",
       "1       at         nsa     1993.02        175000                4.6  1993   \n",
       "2       at         nsa     1993.03        166000                4.4  1993   \n",
       "3       at         nsa     1993.04        157000                4.1  1993   \n",
       "4       at         nsa     1993.05        147000                3.9  1993   \n",
       "5       at         nsa     1993.06        134000                3.5  1993   \n",
       "6       at         nsa     1993.07        128000                3.4  1993   \n",
       "7       at         nsa     1993.08        130000                3.4  1993   \n",
       "8       at         nsa     1993.09        132000                3.5  1993   \n",
       "9       at         nsa     1993.10        141000                3.7  1993   \n",
       "10      at         nsa     1993.11        156000                4.1  1993   \n",
       "11      at         nsa     1993.12        169000                4.4  1993   \n",
       "\n",
       "    month  \n",
       "0       1  \n",
       "1       2  \n",
       "2       3  \n",
       "3       4  \n",
       "4       5  \n",
       "5       6  \n",
       "6       7  \n",
       "7       8  \n",
       "8       9  \n",
       "9      10  \n",
       "10     11  \n",
       "11     12  "
      ]
     },
     "execution_count": 17,
     "metadata": {},
     "output_type": "execute_result"
    }
   ],
   "source": [
    "unemployment.head(12)"
   ]
  },
  {
   "cell_type": "code",
   "execution_count": 18,
   "metadata": {
    "collapsed": false
   },
   "outputs": [
    {
     "data": {
      "text/plain": [
       "1"
      ]
     },
     "execution_count": 18,
     "metadata": {},
     "output_type": "execute_result"
    }
   ],
   "source": [
    "unemployment['month'][0]"
   ]
  },
  {
   "cell_type": "markdown",
   "metadata": {
    "collapsed": true
   },
   "source": [
    "To create the `month` column, we subtracted two vectors. This resulted in the decimal value in `year_month`. To transform the values to integers, we multiplied by 100.\n",
    "\n",
    "Now, let's say we wanted to reorder the columns in the `DataFrame`. For this, we use bracket notation again, passing in a list of column names in the order we'd like to see them."
   ]
  },
  {
   "cell_type": "code",
   "execution_count": 19,
   "metadata": {
    "collapsed": false
   },
   "outputs": [],
   "source": [
    "unemployment = unemployment[['country', 'seasonality',\n",
    "                             'year_month', 'year', 'month',\n",
    "                             'unemployment', 'unemployment_rate']]"
   ]
  },
  {
   "cell_type": "code",
   "execution_count": 20,
   "metadata": {
    "collapsed": false
   },
   "outputs": [
    {
     "data": {
      "text/html": [
       "<div>\n",
       "<table border=\"1\" class=\"dataframe\">\n",
       "  <thead>\n",
       "    <tr style=\"text-align: right;\">\n",
       "      <th></th>\n",
       "      <th>country</th>\n",
       "      <th>seasonality</th>\n",
       "      <th>year_month</th>\n",
       "      <th>year</th>\n",
       "      <th>month</th>\n",
       "      <th>unemployment</th>\n",
       "      <th>unemployment_rate</th>\n",
       "    </tr>\n",
       "  </thead>\n",
       "  <tbody>\n",
       "    <tr>\n",
       "      <th>0</th>\n",
       "      <td>at</td>\n",
       "      <td>nsa</td>\n",
       "      <td>1993.01</td>\n",
       "      <td>1993</td>\n",
       "      <td>1</td>\n",
       "      <td>171000</td>\n",
       "      <td>4.5</td>\n",
       "    </tr>\n",
       "    <tr>\n",
       "      <th>1</th>\n",
       "      <td>at</td>\n",
       "      <td>nsa</td>\n",
       "      <td>1993.02</td>\n",
       "      <td>1993</td>\n",
       "      <td>2</td>\n",
       "      <td>175000</td>\n",
       "      <td>4.6</td>\n",
       "    </tr>\n",
       "    <tr>\n",
       "      <th>2</th>\n",
       "      <td>at</td>\n",
       "      <td>nsa</td>\n",
       "      <td>1993.03</td>\n",
       "      <td>1993</td>\n",
       "      <td>3</td>\n",
       "      <td>166000</td>\n",
       "      <td>4.4</td>\n",
       "    </tr>\n",
       "    <tr>\n",
       "      <th>3</th>\n",
       "      <td>at</td>\n",
       "      <td>nsa</td>\n",
       "      <td>1993.04</td>\n",
       "      <td>1993</td>\n",
       "      <td>4</td>\n",
       "      <td>157000</td>\n",
       "      <td>4.1</td>\n",
       "    </tr>\n",
       "    <tr>\n",
       "      <th>4</th>\n",
       "      <td>at</td>\n",
       "      <td>nsa</td>\n",
       "      <td>1993.05</td>\n",
       "      <td>1993</td>\n",
       "      <td>5</td>\n",
       "      <td>147000</td>\n",
       "      <td>3.9</td>\n",
       "    </tr>\n",
       "    <tr>\n",
       "      <th>5</th>\n",
       "      <td>at</td>\n",
       "      <td>nsa</td>\n",
       "      <td>1993.06</td>\n",
       "      <td>1993</td>\n",
       "      <td>6</td>\n",
       "      <td>134000</td>\n",
       "      <td>3.5</td>\n",
       "    </tr>\n",
       "    <tr>\n",
       "      <th>6</th>\n",
       "      <td>at</td>\n",
       "      <td>nsa</td>\n",
       "      <td>1993.07</td>\n",
       "      <td>1993</td>\n",
       "      <td>7</td>\n",
       "      <td>128000</td>\n",
       "      <td>3.4</td>\n",
       "    </tr>\n",
       "    <tr>\n",
       "      <th>7</th>\n",
       "      <td>at</td>\n",
       "      <td>nsa</td>\n",
       "      <td>1993.08</td>\n",
       "      <td>1993</td>\n",
       "      <td>8</td>\n",
       "      <td>130000</td>\n",
       "      <td>3.4</td>\n",
       "    </tr>\n",
       "    <tr>\n",
       "      <th>8</th>\n",
       "      <td>at</td>\n",
       "      <td>nsa</td>\n",
       "      <td>1993.09</td>\n",
       "      <td>1993</td>\n",
       "      <td>9</td>\n",
       "      <td>132000</td>\n",
       "      <td>3.5</td>\n",
       "    </tr>\n",
       "    <tr>\n",
       "      <th>9</th>\n",
       "      <td>at</td>\n",
       "      <td>nsa</td>\n",
       "      <td>1993.10</td>\n",
       "      <td>1993</td>\n",
       "      <td>10</td>\n",
       "      <td>141000</td>\n",
       "      <td>3.7</td>\n",
       "    </tr>\n",
       "  </tbody>\n",
       "</table>\n",
       "</div>"
      ],
      "text/plain": [
       "  country seasonality  year_month  year  month  unemployment  \\\n",
       "0      at         nsa     1993.01  1993      1        171000   \n",
       "1      at         nsa     1993.02  1993      2        175000   \n",
       "2      at         nsa     1993.03  1993      3        166000   \n",
       "3      at         nsa     1993.04  1993      4        157000   \n",
       "4      at         nsa     1993.05  1993      5        147000   \n",
       "5      at         nsa     1993.06  1993      6        134000   \n",
       "6      at         nsa     1993.07  1993      7        128000   \n",
       "7      at         nsa     1993.08  1993      8        130000   \n",
       "8      at         nsa     1993.09  1993      9        132000   \n",
       "9      at         nsa     1993.10  1993     10        141000   \n",
       "\n",
       "   unemployment_rate  \n",
       "0                4.5  \n",
       "1                4.6  \n",
       "2                4.4  \n",
       "3                4.1  \n",
       "4                3.9  \n",
       "5                3.5  \n",
       "6                3.4  \n",
       "7                3.4  \n",
       "8                3.5  \n",
       "9                3.7  "
      ]
     },
     "execution_count": 20,
     "metadata": {},
     "output_type": "execute_result"
    }
   ],
   "source": [
    "unemployment.head(10)"
   ]
  },
  {
   "cell_type": "markdown",
   "metadata": {
    "collapsed": true
   },
   "source": [
    "So far, our `DataFrame` is organized in a reasonable way. But, we know we can do better. We're eventually going to be interested in the unemployment rate for each country. The trouble is, we don't exactly know what the values in `country` refer to. We can fix that by getting country names. These can be found in `countries.csv`. However, instead of loading the file in `data/`, why not try something else?"
   ]
  },
  {
   "cell_type": "code",
   "execution_count": 21,
   "metadata": {
    "collapsed": true
   },
   "outputs": [],
   "source": [
    "countries_url = 'https://raw.githubusercontent.com/dlab-berkeley/introduction-to-pandas/master/data/countries.csv'\n",
    "countries = pd.read_csv(countries_url)"
   ]
  },
  {
   "cell_type": "markdown",
   "metadata": {},
   "source": [
    "`read_csv()` can take a URL for the file path."
   ]
  },
  {
   "cell_type": "code",
   "execution_count": 22,
   "metadata": {
    "collapsed": false
   },
   "outputs": [
    {
     "data": {
      "text/html": [
       "<div>\n",
       "<table border=\"1\" class=\"dataframe\">\n",
       "  <thead>\n",
       "    <tr style=\"text-align: right;\">\n",
       "      <th></th>\n",
       "      <th>country</th>\n",
       "      <th>google_country_code</th>\n",
       "      <th>country_group</th>\n",
       "      <th>name_en</th>\n",
       "      <th>name_fr</th>\n",
       "      <th>name_de</th>\n",
       "      <th>latitude</th>\n",
       "      <th>longitude</th>\n",
       "    </tr>\n",
       "  </thead>\n",
       "  <tbody>\n",
       "    <tr>\n",
       "      <th>27</th>\n",
       "      <td>se</td>\n",
       "      <td>SE</td>\n",
       "      <td>eu</td>\n",
       "      <td>Sweden</td>\n",
       "      <td>Suède</td>\n",
       "      <td>Schweden</td>\n",
       "      <td>62.198468</td>\n",
       "      <td>14.896307</td>\n",
       "    </tr>\n",
       "    <tr>\n",
       "      <th>28</th>\n",
       "      <td>tr</td>\n",
       "      <td>TR</td>\n",
       "      <td>non-eu</td>\n",
       "      <td>Turkey</td>\n",
       "      <td>Turquie</td>\n",
       "      <td>Türkei</td>\n",
       "      <td>38.952942</td>\n",
       "      <td>35.439795</td>\n",
       "    </tr>\n",
       "    <tr>\n",
       "      <th>29</th>\n",
       "      <td>uk</td>\n",
       "      <td>GB</td>\n",
       "      <td>eu</td>\n",
       "      <td>United Kingdom</td>\n",
       "      <td>Royaume-Uni</td>\n",
       "      <td>Vereinigtes Königreich</td>\n",
       "      <td>54.315447</td>\n",
       "      <td>-2.232612</td>\n",
       "    </tr>\n",
       "  </tbody>\n",
       "</table>\n",
       "</div>"
      ],
      "text/plain": [
       "   country google_country_code country_group         name_en      name_fr  \\\n",
       "27      se                  SE            eu          Sweden        Suède   \n",
       "28      tr                  TR        non-eu          Turkey      Turquie   \n",
       "29      uk                  GB            eu  United Kingdom  Royaume-Uni   \n",
       "\n",
       "                   name_de   latitude  longitude  \n",
       "27                Schweden  62.198468  14.896307  \n",
       "28                  Türkei  38.952942  35.439795  \n",
       "29  Vereinigtes Königreich  54.315447  -2.232612  "
      ]
     },
     "execution_count": 22,
     "metadata": {},
     "output_type": "execute_result"
    }
   ],
   "source": [
    "countries.tail(3)"
   ]
  },
  {
   "cell_type": "markdown",
   "metadata": {},
   "source": [
    "This file has lots of useful information. It even has the country names is three different languages.\n",
    "\n",
    "Because the data we need is stored in two separate files, we'll want to merge the data somehow. Let's determine which column we can use to join this data. `country` looks like a good option. However, we don't need all of the columns in the `countries` `DataFrame`. To select certain columns, we use the name bracket notation we used to reorder the columns."
   ]
  },
  {
   "cell_type": "code",
   "execution_count": 23,
   "metadata": {
    "collapsed": true
   },
   "outputs": [],
   "source": [
    "country_names = countries[['country', 'country_group', 'name_en']]"
   ]
  },
  {
   "cell_type": "code",
   "execution_count": 24,
   "metadata": {
    "collapsed": false
   },
   "outputs": [
    {
     "data": {
      "text/html": [
       "<div>\n",
       "<table border=\"1\" class=\"dataframe\">\n",
       "  <thead>\n",
       "    <tr style=\"text-align: right;\">\n",
       "      <th></th>\n",
       "      <th>country</th>\n",
       "      <th>country_group</th>\n",
       "      <th>name_en</th>\n",
       "    </tr>\n",
       "  </thead>\n",
       "  <tbody>\n",
       "    <tr>\n",
       "      <th>0</th>\n",
       "      <td>at</td>\n",
       "      <td>eu</td>\n",
       "      <td>Austria</td>\n",
       "    </tr>\n",
       "    <tr>\n",
       "      <th>1</th>\n",
       "      <td>be</td>\n",
       "      <td>eu</td>\n",
       "      <td>Belgium</td>\n",
       "    </tr>\n",
       "  </tbody>\n",
       "</table>\n",
       "</div>"
      ],
      "text/plain": [
       "  country country_group  name_en\n",
       "0      at            eu  Austria\n",
       "1      be            eu  Belgium"
      ]
     },
     "execution_count": 24,
     "metadata": {},
     "output_type": "execute_result"
    }
   ],
   "source": [
    "country_names.head(2)"
   ]
  },
  {
   "cell_type": "markdown",
   "metadata": {},
   "source": [
    "`pandas` includes an easy-to-use merge function."
   ]
  },
  {
   "cell_type": "code",
   "execution_count": 25,
   "metadata": {
    "collapsed": true
   },
   "outputs": [],
   "source": [
    "unemployment = pd.merge(unemployment, country_names, on='country')"
   ]
  },
  {
   "cell_type": "markdown",
   "metadata": {},
   "source": [
    "Merging is often more complex than this example. If you want to merge on multiple columns, you can pass a list of column names to the `on` parameter.\n",
    "\n",
    "```\n",
    "pd.merge(first, second, on=['name', 'id'])\n",
    "```\n",
    "\n",
    "You might even need to merge on columns with different names. To do so, use the `left_on` and `right_on` parameters, where the first listed `DataFrame` is the \"left\" one and the second is the \"right.\" It might look something this.\n",
    "\n",
    "```\n",
    "pd.merge(one, two, left_on='city', right_on='city_name')\n",
    "```\n",
    "\n",
    "For more information on merging, check the [documentation](http://pandas.pydata.org/pandas-docs/stable/merging.html#database-style-dataframe-joining-merging).\n",
    "\n",
    "`pandas` also provides a `.merge()` method that can act on a `DataFrame`. You can read more about that [here](http://pandas.pydata.org/pandas-docs/stable/generated/pandas.DataFrame.merge.html)."
   ]
  },
  {
   "cell_type": "code",
   "execution_count": 26,
   "metadata": {
    "collapsed": false
   },
   "outputs": [
    {
     "data": {
      "text/html": [
       "<div>\n",
       "<table border=\"1\" class=\"dataframe\">\n",
       "  <thead>\n",
       "    <tr style=\"text-align: right;\">\n",
       "      <th></th>\n",
       "      <th>country</th>\n",
       "      <th>seasonality</th>\n",
       "      <th>year_month</th>\n",
       "      <th>year</th>\n",
       "      <th>month</th>\n",
       "      <th>unemployment</th>\n",
       "      <th>unemployment_rate</th>\n",
       "      <th>country_group</th>\n",
       "      <th>name_en</th>\n",
       "    </tr>\n",
       "  </thead>\n",
       "  <tbody>\n",
       "    <tr>\n",
       "      <th>0</th>\n",
       "      <td>at</td>\n",
       "      <td>nsa</td>\n",
       "      <td>1993.01</td>\n",
       "      <td>1993</td>\n",
       "      <td>1</td>\n",
       "      <td>171000</td>\n",
       "      <td>4.5</td>\n",
       "      <td>eu</td>\n",
       "      <td>Austria</td>\n",
       "    </tr>\n",
       "    <tr>\n",
       "      <th>1</th>\n",
       "      <td>at</td>\n",
       "      <td>nsa</td>\n",
       "      <td>1993.02</td>\n",
       "      <td>1993</td>\n",
       "      <td>2</td>\n",
       "      <td>175000</td>\n",
       "      <td>4.6</td>\n",
       "      <td>eu</td>\n",
       "      <td>Austria</td>\n",
       "    </tr>\n",
       "    <tr>\n",
       "      <th>2</th>\n",
       "      <td>at</td>\n",
       "      <td>nsa</td>\n",
       "      <td>1993.03</td>\n",
       "      <td>1993</td>\n",
       "      <td>3</td>\n",
       "      <td>166000</td>\n",
       "      <td>4.4</td>\n",
       "      <td>eu</td>\n",
       "      <td>Austria</td>\n",
       "    </tr>\n",
       "    <tr>\n",
       "      <th>3</th>\n",
       "      <td>at</td>\n",
       "      <td>nsa</td>\n",
       "      <td>1993.04</td>\n",
       "      <td>1993</td>\n",
       "      <td>4</td>\n",
       "      <td>157000</td>\n",
       "      <td>4.1</td>\n",
       "      <td>eu</td>\n",
       "      <td>Austria</td>\n",
       "    </tr>\n",
       "    <tr>\n",
       "      <th>4</th>\n",
       "      <td>at</td>\n",
       "      <td>nsa</td>\n",
       "      <td>1993.05</td>\n",
       "      <td>1993</td>\n",
       "      <td>5</td>\n",
       "      <td>147000</td>\n",
       "      <td>3.9</td>\n",
       "      <td>eu</td>\n",
       "      <td>Austria</td>\n",
       "    </tr>\n",
       "  </tbody>\n",
       "</table>\n",
       "</div>"
      ],
      "text/plain": [
       "  country seasonality  year_month  year  month  unemployment  \\\n",
       "0      at         nsa     1993.01  1993      1        171000   \n",
       "1      at         nsa     1993.02  1993      2        175000   \n",
       "2      at         nsa     1993.03  1993      3        166000   \n",
       "3      at         nsa     1993.04  1993      4        157000   \n",
       "4      at         nsa     1993.05  1993      5        147000   \n",
       "\n",
       "   unemployment_rate country_group  name_en  \n",
       "0                4.5            eu  Austria  \n",
       "1                4.6            eu  Austria  \n",
       "2                4.4            eu  Austria  \n",
       "3                4.1            eu  Austria  \n",
       "4                3.9            eu  Austria  "
      ]
     },
     "execution_count": 26,
     "metadata": {},
     "output_type": "execute_result"
    }
   ],
   "source": [
    "unemployment.head()"
   ]
  },
  {
   "cell_type": "markdown",
   "metadata": {},
   "source": [
    "That's better. We now know that the abbreviation \"at\" corresponds to Austria. We might be curious to check what countries we have data for. The `Series` object includes a `.unique()` method. We'll use this to check the countries. We can select the name either using bracket or dot notation. (While we suggested using brackets above, it *is* sometimes easier to use dot notation. Just be careful.)"
   ]
  },
  {
   "cell_type": "code",
   "execution_count": 27,
   "metadata": {
    "collapsed": false
   },
   "outputs": [
    {
     "data": {
      "text/plain": [
       "array(['Austria', 'Belgium', 'Bulgaria', 'Cyprus', 'Czech Republic',\n",
       "       'Germany (including  former GDR from 1991)', 'Denmark', 'Estonia',\n",
       "       'Spain', 'Finland', 'France', 'Greece', 'Croatia', 'Hungary',\n",
       "       'Ireland', 'Italy', 'Lithuania', 'Luxembourg', 'Latvia', 'Malta',\n",
       "       'Netherlands', 'Norway', 'Poland', 'Portugal', 'Romania', 'Sweden',\n",
       "       'Slovenia', 'Slovakia', 'Turkey', 'United Kingdom'], dtype=object)"
      ]
     },
     "execution_count": 27,
     "metadata": {},
     "output_type": "execute_result"
    }
   ],
   "source": [
    "unemployment.name_en.unique()"
   ]
  },
  {
   "cell_type": "markdown",
   "metadata": {},
   "source": [
    "To get a count of the number of unique countries, wrap the above code with `len()`."
   ]
  },
  {
   "cell_type": "code",
   "execution_count": 28,
   "metadata": {
    "collapsed": false
   },
   "outputs": [
    {
     "data": {
      "text/plain": [
       "30"
      ]
     },
     "execution_count": 28,
     "metadata": {},
     "output_type": "execute_result"
    }
   ],
   "source": [
    "len(unemployment.name_en.unique())"
   ]
  },
  {
   "cell_type": "markdown",
   "metadata": {},
   "source": [
    "It might be more interesting to know how many observations we actually have. `pandas` has a `Series` method called `.value_counts()` that returns the counts for the unique values in the `Series`."
   ]
  },
  {
   "cell_type": "code",
   "execution_count": 29,
   "metadata": {
    "collapsed": false
   },
   "outputs": [
    {
     "data": {
      "text/plain": [
       "Luxembourg                                   1008\n",
       "Sweden                                       1008\n",
       "Belgium                                      1008\n",
       "Denmark                                      1008\n",
       "France                                       1008\n",
       "Ireland                                      1008\n",
       "Netherlands                                  1008\n",
       "Spain                                        1008\n",
       "Portugal                                     1008\n",
       "United Kingdom                               1002\n",
       "Italy                                         924\n",
       "Finland                                       828\n",
       "Norway                                        786\n",
       "Austria                                       648\n",
       "Malta                                         576\n",
       "Bulgaria                                      576\n",
       "Slovenia                                      576\n",
       "Poland                                        576\n",
       "Slovakia                                      576\n",
       "Hungary                                       576\n",
       "Germany (including  former GDR from 1991)     504\n",
       "Czech Republic                                468\n",
       "Lithuania                                     459\n",
       "Latvia                                        459\n",
       "Greece                                        450\n",
       "Romania                                       423\n",
       "Cyprus                                        396\n",
       "Estonia                                       387\n",
       "Croatia                                       324\n",
       "Turkey                                        210\n",
       "dtype: int64"
      ]
     },
     "execution_count": 29,
     "metadata": {},
     "output_type": "execute_result"
    }
   ],
   "source": [
    "unemployment['name_en'].value_counts()"
   ]
  },
  {
   "cell_type": "markdown",
   "metadata": {},
   "source": [
    "By default, the `Series` is sorted by values. If you'd like it sorted by index%mdash;country name in this case&mdash;append the `.sort_index()` method."
   ]
  },
  {
   "cell_type": "code",
   "execution_count": 30,
   "metadata": {
    "collapsed": false
   },
   "outputs": [
    {
     "data": {
      "text/plain": [
       "Austria                                       648\n",
       "Belgium                                      1008\n",
       "Bulgaria                                      576\n",
       "Croatia                                       324\n",
       "Cyprus                                        396\n",
       "Czech Republic                                468\n",
       "Denmark                                      1008\n",
       "Estonia                                       387\n",
       "Finland                                       828\n",
       "France                                       1008\n",
       "Germany (including  former GDR from 1991)     504\n",
       "Greece                                        450\n",
       "Hungary                                       576\n",
       "Ireland                                      1008\n",
       "Italy                                         924\n",
       "Latvia                                        459\n",
       "Lithuania                                     459\n",
       "Luxembourg                                   1008\n",
       "Malta                                         576\n",
       "Netherlands                                  1008\n",
       "Norway                                        786\n",
       "Poland                                        576\n",
       "Portugal                                     1008\n",
       "Romania                                       423\n",
       "Slovakia                                      576\n",
       "Slovenia                                      576\n",
       "Spain                                        1008\n",
       "Sweden                                       1008\n",
       "Turkey                                        210\n",
       "United Kingdom                               1002\n",
       "dtype: int64"
      ]
     },
     "execution_count": 30,
     "metadata": {},
     "output_type": "execute_result"
    }
   ],
   "source": [
    "unemployment['name_en'].value_counts().sort_index()"
   ]
  },
  {
   "cell_type": "markdown",
   "metadata": {},
   "source": [
    "This will be useful for our analysis. The maximum number of observations for a given country for this time period is 1,008 observations. We'll note that certain countries, such as Turkey, have far less data.\n",
    "\n",
    "How about finding the date range for this data set? Let's look at the minimum and maximum years."
   ]
  },
  {
   "cell_type": "code",
   "execution_count": 31,
   "metadata": {
    "collapsed": false
   },
   "outputs": [
    {
     "data": {
      "text/plain": [
       "(1983, 2010)"
      ]
     },
     "execution_count": 31,
     "metadata": {},
     "output_type": "execute_result"
    }
   ],
   "source": [
    "unemployment['year'].min(), unemployment['year'].max()"
   ]
  },
  {
   "cell_type": "markdown",
   "metadata": {},
   "source": [
    "Next, we should pause for a moment and think about what data we really care about. For our purposes, the variable of interest is `unemployment_rate`. The number of observations by country only reflect the number of instances for each country name. It is possible, maybe even expected, to have some missing data. Let's find out how many unemployment rate values are missing."
   ]
  },
  {
   "cell_type": "code",
   "execution_count": 32,
   "metadata": {
    "collapsed": false
   },
   "outputs": [
    {
     "data": {
      "text/plain": [
       "945"
      ]
     },
     "execution_count": 32,
     "metadata": {},
     "output_type": "execute_result"
    }
   ],
   "source": [
    "unemployment['unemployment_rate'].isnull().sum()"
   ]
  },
  {
   "cell_type": "markdown",
   "metadata": {},
   "source": [
    "The `.isnull()` method returns a corresponding boolean value for each entry in the unemployment rate `Series`. In Python `True` is equivalent to 1 and `False` is equivalent to 0. Thus, when we add the result (with `.sum()`), we get a count for the *total* number of missing values.\n",
    "\n",
    "What if we'd like to know how many missing values exist at the *country* level? We can take the main part of what we had above and create a new column in the `DataFrame`."
   ]
  },
  {
   "cell_type": "code",
   "execution_count": 33,
   "metadata": {
    "collapsed": false
   },
   "outputs": [],
   "source": [
    "unemployment['unemployment_rate_null'] = unemployment['unemployment_rate'].isnull()"
   ]
  },
  {
   "cell_type": "markdown",
   "metadata": {},
   "source": [
    "To count the number of missing values for each country, we introduce the `.groupby()` method."
   ]
  },
  {
   "cell_type": "code",
   "execution_count": 34,
   "metadata": {
    "collapsed": false
   },
   "outputs": [
    {
     "data": {
      "text/plain": [
       "name_en\n",
       "Austria                                        0\n",
       "Belgium                                        0\n",
       "Bulgaria                                     180\n",
       "Croatia                                      216\n",
       "Cyprus                                         0\n",
       "Czech Republic                                 0\n",
       "Denmark                                        0\n",
       "Estonia                                        0\n",
       "Finland                                        0\n",
       "France                                         0\n",
       "Germany (including  former GDR from 1991)      0\n",
       "Greece                                         0\n",
       "Hungary                                       36\n",
       "Ireland                                        0\n",
       "Italy                                          0\n",
       "Latvia                                         0\n",
       "Lithuania                                      0\n",
       "Luxembourg                                     0\n",
       "Malta                                        180\n",
       "Netherlands                                    0\n",
       "Norway                                         0\n",
       "Poland                                        72\n",
       "Portugal                                       0\n",
       "Romania                                        0\n",
       "Slovakia                                     108\n",
       "Slovenia                                      36\n",
       "Spain                                        117\n",
       "Sweden                                         0\n",
       "Turkey                                         0\n",
       "United Kingdom                                 0\n",
       "Name: unemployment_rate_null, dtype: float64"
      ]
     },
     "execution_count": 34,
     "metadata": {},
     "output_type": "execute_result"
    }
   ],
   "source": [
    "unemployment.groupby('name_en')['unemployment_rate_null'].sum()"
   ]
  },
  {
   "cell_type": "markdown",
   "metadata": {},
   "source": [
    "Let's explain what just happened. We start with our `DataFrame`. We tell `pandas` that we want to group the data by country name&mdash;that's what goes in the parentheses. Next, we need to tell it what column we'd like to perform the `.sum()` operation on. In this case, it's the indicator for whether or not the unemployment rate was missing.\n",
    "\n",
    "As we saw above, the number of records for each country differs. We might, then, want to have the missing values by country shown as percentages. Let's create a new `DataFrame` for this.\n",
    "\n",
    "We'll take the code from above and set the `as_index` parameter to `False`."
   ]
  },
  {
   "cell_type": "code",
   "execution_count": 35,
   "metadata": {
    "collapsed": false
   },
   "outputs": [],
   "source": [
    "unemployment_rate = unemployment.groupby('name_en', as_index=False)['unemployment_rate_null'].sum()"
   ]
  },
  {
   "cell_type": "markdown",
   "metadata": {},
   "source": [
    "`unemployment_rate` is a `DataFrame` with the information from cell 33, above. It's important to note that using `as_index=False` in `.groupby()` only works if the grouping column(s) are not the same as the columns on which we're performing the operation.\n",
    "\n",
    "Also, to group by several columns, simply pass in a list of column names to `.groupby()`.\n",
    "\n",
    "```\n",
    "unemployment.groupby(['name_en', 'seasonality'])['unemployment_rate'].mean()\n",
    "```\n",
    "\n",
    "Now, let's add the number of observations by country to the `DataFrame`."
   ]
  },
  {
   "cell_type": "code",
   "execution_count": 36,
   "metadata": {
    "collapsed": false
   },
   "outputs": [],
   "source": [
    "unemployment_rate['n_obs'] = unemployment.groupby('name_en')['name_en'].count().values"
   ]
  },
  {
   "cell_type": "markdown",
   "metadata": {},
   "source": [
    "Here, we need to use the `values` attribute to get an array of the counts. Excluding `values` will result in a column full of `NaN`s. This is because the index in `unemployment.groupby('name_en')['name_en'].count()` is a list of the country names. When creating a new column, `pandas` tries to match on index. Recall that the default index values for a `DataFrame` is a sequence of integers.\n",
    "\n",
    "Because we know (or have noticed) that the `.groupby()` function returns the values in alphabetical order, we can simply set the new column to the list of values, as we have done. You can, however, be more explicit and create another `DataFrame` and merge on country name.\n",
    "\n",
    "Finally, let's create the column for the percentage of missing values."
   ]
  },
  {
   "cell_type": "code",
   "execution_count": 37,
   "metadata": {
    "collapsed": true
   },
   "outputs": [],
   "source": [
    "unemployment_rate['null_percentage'] = unemployment_rate['unemployment_rate_null'] / unemployment_rate['n_obs']"
   ]
  },
  {
   "cell_type": "code",
   "execution_count": 38,
   "metadata": {
    "collapsed": false
   },
   "outputs": [
    {
     "data": {
      "text/html": [
       "<div>\n",
       "<table border=\"1\" class=\"dataframe\">\n",
       "  <thead>\n",
       "    <tr style=\"text-align: right;\">\n",
       "      <th></th>\n",
       "      <th>name_en</th>\n",
       "      <th>unemployment_rate_null</th>\n",
       "      <th>n_obs</th>\n",
       "      <th>null_percentage</th>\n",
       "    </tr>\n",
       "  </thead>\n",
       "  <tbody>\n",
       "    <tr>\n",
       "      <th>0</th>\n",
       "      <td>Austria</td>\n",
       "      <td>0</td>\n",
       "      <td>648</td>\n",
       "      <td>0.000000</td>\n",
       "    </tr>\n",
       "    <tr>\n",
       "      <th>1</th>\n",
       "      <td>Belgium</td>\n",
       "      <td>0</td>\n",
       "      <td>1008</td>\n",
       "      <td>0.000000</td>\n",
       "    </tr>\n",
       "    <tr>\n",
       "      <th>2</th>\n",
       "      <td>Bulgaria</td>\n",
       "      <td>180</td>\n",
       "      <td>576</td>\n",
       "      <td>0.312500</td>\n",
       "    </tr>\n",
       "    <tr>\n",
       "      <th>3</th>\n",
       "      <td>Croatia</td>\n",
       "      <td>216</td>\n",
       "      <td>324</td>\n",
       "      <td>0.666667</td>\n",
       "    </tr>\n",
       "    <tr>\n",
       "      <th>4</th>\n",
       "      <td>Cyprus</td>\n",
       "      <td>0</td>\n",
       "      <td>396</td>\n",
       "      <td>0.000000</td>\n",
       "    </tr>\n",
       "    <tr>\n",
       "      <th>5</th>\n",
       "      <td>Czech Republic</td>\n",
       "      <td>0</td>\n",
       "      <td>468</td>\n",
       "      <td>0.000000</td>\n",
       "    </tr>\n",
       "    <tr>\n",
       "      <th>6</th>\n",
       "      <td>Denmark</td>\n",
       "      <td>0</td>\n",
       "      <td>1008</td>\n",
       "      <td>0.000000</td>\n",
       "    </tr>\n",
       "    <tr>\n",
       "      <th>7</th>\n",
       "      <td>Estonia</td>\n",
       "      <td>0</td>\n",
       "      <td>387</td>\n",
       "      <td>0.000000</td>\n",
       "    </tr>\n",
       "    <tr>\n",
       "      <th>8</th>\n",
       "      <td>Finland</td>\n",
       "      <td>0</td>\n",
       "      <td>828</td>\n",
       "      <td>0.000000</td>\n",
       "    </tr>\n",
       "    <tr>\n",
       "      <th>9</th>\n",
       "      <td>France</td>\n",
       "      <td>0</td>\n",
       "      <td>1008</td>\n",
       "      <td>0.000000</td>\n",
       "    </tr>\n",
       "    <tr>\n",
       "      <th>10</th>\n",
       "      <td>Germany (including  former GDR from 1991)</td>\n",
       "      <td>0</td>\n",
       "      <td>504</td>\n",
       "      <td>0.000000</td>\n",
       "    </tr>\n",
       "    <tr>\n",
       "      <th>11</th>\n",
       "      <td>Greece</td>\n",
       "      <td>0</td>\n",
       "      <td>450</td>\n",
       "      <td>0.000000</td>\n",
       "    </tr>\n",
       "    <tr>\n",
       "      <th>12</th>\n",
       "      <td>Hungary</td>\n",
       "      <td>36</td>\n",
       "      <td>576</td>\n",
       "      <td>0.062500</td>\n",
       "    </tr>\n",
       "    <tr>\n",
       "      <th>13</th>\n",
       "      <td>Ireland</td>\n",
       "      <td>0</td>\n",
       "      <td>1008</td>\n",
       "      <td>0.000000</td>\n",
       "    </tr>\n",
       "    <tr>\n",
       "      <th>14</th>\n",
       "      <td>Italy</td>\n",
       "      <td>0</td>\n",
       "      <td>924</td>\n",
       "      <td>0.000000</td>\n",
       "    </tr>\n",
       "    <tr>\n",
       "      <th>15</th>\n",
       "      <td>Latvia</td>\n",
       "      <td>0</td>\n",
       "      <td>459</td>\n",
       "      <td>0.000000</td>\n",
       "    </tr>\n",
       "    <tr>\n",
       "      <th>16</th>\n",
       "      <td>Lithuania</td>\n",
       "      <td>0</td>\n",
       "      <td>459</td>\n",
       "      <td>0.000000</td>\n",
       "    </tr>\n",
       "    <tr>\n",
       "      <th>17</th>\n",
       "      <td>Luxembourg</td>\n",
       "      <td>0</td>\n",
       "      <td>1008</td>\n",
       "      <td>0.000000</td>\n",
       "    </tr>\n",
       "    <tr>\n",
       "      <th>18</th>\n",
       "      <td>Malta</td>\n",
       "      <td>180</td>\n",
       "      <td>576</td>\n",
       "      <td>0.312500</td>\n",
       "    </tr>\n",
       "    <tr>\n",
       "      <th>19</th>\n",
       "      <td>Netherlands</td>\n",
       "      <td>0</td>\n",
       "      <td>1008</td>\n",
       "      <td>0.000000</td>\n",
       "    </tr>\n",
       "    <tr>\n",
       "      <th>20</th>\n",
       "      <td>Norway</td>\n",
       "      <td>0</td>\n",
       "      <td>786</td>\n",
       "      <td>0.000000</td>\n",
       "    </tr>\n",
       "    <tr>\n",
       "      <th>21</th>\n",
       "      <td>Poland</td>\n",
       "      <td>72</td>\n",
       "      <td>576</td>\n",
       "      <td>0.125000</td>\n",
       "    </tr>\n",
       "    <tr>\n",
       "      <th>22</th>\n",
       "      <td>Portugal</td>\n",
       "      <td>0</td>\n",
       "      <td>1008</td>\n",
       "      <td>0.000000</td>\n",
       "    </tr>\n",
       "    <tr>\n",
       "      <th>23</th>\n",
       "      <td>Romania</td>\n",
       "      <td>0</td>\n",
       "      <td>423</td>\n",
       "      <td>0.000000</td>\n",
       "    </tr>\n",
       "    <tr>\n",
       "      <th>24</th>\n",
       "      <td>Slovakia</td>\n",
       "      <td>108</td>\n",
       "      <td>576</td>\n",
       "      <td>0.187500</td>\n",
       "    </tr>\n",
       "    <tr>\n",
       "      <th>25</th>\n",
       "      <td>Slovenia</td>\n",
       "      <td>36</td>\n",
       "      <td>576</td>\n",
       "      <td>0.062500</td>\n",
       "    </tr>\n",
       "    <tr>\n",
       "      <th>26</th>\n",
       "      <td>Spain</td>\n",
       "      <td>117</td>\n",
       "      <td>1008</td>\n",
       "      <td>0.116071</td>\n",
       "    </tr>\n",
       "    <tr>\n",
       "      <th>27</th>\n",
       "      <td>Sweden</td>\n",
       "      <td>0</td>\n",
       "      <td>1008</td>\n",
       "      <td>0.000000</td>\n",
       "    </tr>\n",
       "    <tr>\n",
       "      <th>28</th>\n",
       "      <td>Turkey</td>\n",
       "      <td>0</td>\n",
       "      <td>210</td>\n",
       "      <td>0.000000</td>\n",
       "    </tr>\n",
       "    <tr>\n",
       "      <th>29</th>\n",
       "      <td>United Kingdom</td>\n",
       "      <td>0</td>\n",
       "      <td>1002</td>\n",
       "      <td>0.000000</td>\n",
       "    </tr>\n",
       "  </tbody>\n",
       "</table>\n",
       "</div>"
      ],
      "text/plain": [
       "                                      name_en  unemployment_rate_null  n_obs  \\\n",
       "0                                     Austria                       0    648   \n",
       "1                                     Belgium                       0   1008   \n",
       "2                                    Bulgaria                     180    576   \n",
       "3                                     Croatia                     216    324   \n",
       "4                                      Cyprus                       0    396   \n",
       "5                              Czech Republic                       0    468   \n",
       "6                                     Denmark                       0   1008   \n",
       "7                                     Estonia                       0    387   \n",
       "8                                     Finland                       0    828   \n",
       "9                                      France                       0   1008   \n",
       "10  Germany (including  former GDR from 1991)                       0    504   \n",
       "11                                     Greece                       0    450   \n",
       "12                                    Hungary                      36    576   \n",
       "13                                    Ireland                       0   1008   \n",
       "14                                      Italy                       0    924   \n",
       "15                                     Latvia                       0    459   \n",
       "16                                  Lithuania                       0    459   \n",
       "17                                 Luxembourg                       0   1008   \n",
       "18                                      Malta                     180    576   \n",
       "19                                Netherlands                       0   1008   \n",
       "20                                     Norway                       0    786   \n",
       "21                                     Poland                      72    576   \n",
       "22                                   Portugal                       0   1008   \n",
       "23                                    Romania                       0    423   \n",
       "24                                   Slovakia                     108    576   \n",
       "25                                   Slovenia                      36    576   \n",
       "26                                      Spain                     117   1008   \n",
       "27                                     Sweden                       0   1008   \n",
       "28                                     Turkey                       0    210   \n",
       "29                             United Kingdom                       0   1002   \n",
       "\n",
       "    null_percentage  \n",
       "0          0.000000  \n",
       "1          0.000000  \n",
       "2          0.312500  \n",
       "3          0.666667  \n",
       "4          0.000000  \n",
       "5          0.000000  \n",
       "6          0.000000  \n",
       "7          0.000000  \n",
       "8          0.000000  \n",
       "9          0.000000  \n",
       "10         0.000000  \n",
       "11         0.000000  \n",
       "12         0.062500  \n",
       "13         0.000000  \n",
       "14         0.000000  \n",
       "15         0.000000  \n",
       "16         0.000000  \n",
       "17         0.000000  \n",
       "18         0.312500  \n",
       "19         0.000000  \n",
       "20         0.000000  \n",
       "21         0.125000  \n",
       "22         0.000000  \n",
       "23         0.000000  \n",
       "24         0.187500  \n",
       "25         0.062500  \n",
       "26         0.116071  \n",
       "27         0.000000  \n",
       "28         0.000000  \n",
       "29         0.000000  "
      ]
     },
     "execution_count": 38,
     "metadata": {},
     "output_type": "execute_result"
    }
   ],
   "source": [
    "unemployment_rate"
   ]
  },
  {
   "cell_type": "markdown",
   "metadata": {},
   "source": [
    "This is the first time we've called a `DataFrame` without something like `.head()`. By default, `pandas` prints 60 rows. In this case, because there are only 30 countries, we see the entire `DataFrame`.\n",
    "\n",
    "As we can see, Croatia has lots of missing data. This `DataFrame` contains useful information&mdash;things to consider&mdash;when analyzing the data.\n",
    "\n",
    "Let's return to our main `DataFrame`. Now that we have the missing values information in `unemployment_rate`, we can drop the last column we added to `unemployment`."
   ]
  },
  {
   "cell_type": "code",
   "execution_count": 39,
   "metadata": {
    "collapsed": false
   },
   "outputs": [],
   "source": [
    "unemployment.drop('unemployment_rate_null', axis=1, inplace=True)"
   ]
  },
  {
   "cell_type": "markdown",
   "metadata": {},
   "source": [
    "It's important to specify the `axis` parameter. `axis=1` refers to columns. (`axis=0` refers to rows.) `inplace=True` simply modifies the actual `DataFrame`."
   ]
  },
  {
   "cell_type": "code",
   "execution_count": 40,
   "metadata": {
    "collapsed": false
   },
   "outputs": [
    {
     "data": {
      "text/html": [
       "<div>\n",
       "<table border=\"1\" class=\"dataframe\">\n",
       "  <thead>\n",
       "    <tr style=\"text-align: right;\">\n",
       "      <th></th>\n",
       "      <th>country</th>\n",
       "      <th>seasonality</th>\n",
       "      <th>year_month</th>\n",
       "      <th>year</th>\n",
       "      <th>month</th>\n",
       "      <th>unemployment</th>\n",
       "      <th>unemployment_rate</th>\n",
       "      <th>country_group</th>\n",
       "      <th>name_en</th>\n",
       "    </tr>\n",
       "  </thead>\n",
       "  <tbody>\n",
       "    <tr>\n",
       "      <th>0</th>\n",
       "      <td>at</td>\n",
       "      <td>nsa</td>\n",
       "      <td>1993.01</td>\n",
       "      <td>1993</td>\n",
       "      <td>1</td>\n",
       "      <td>171000</td>\n",
       "      <td>4.5</td>\n",
       "      <td>eu</td>\n",
       "      <td>Austria</td>\n",
       "    </tr>\n",
       "    <tr>\n",
       "      <th>1</th>\n",
       "      <td>at</td>\n",
       "      <td>nsa</td>\n",
       "      <td>1993.02</td>\n",
       "      <td>1993</td>\n",
       "      <td>2</td>\n",
       "      <td>175000</td>\n",
       "      <td>4.6</td>\n",
       "      <td>eu</td>\n",
       "      <td>Austria</td>\n",
       "    </tr>\n",
       "    <tr>\n",
       "      <th>2</th>\n",
       "      <td>at</td>\n",
       "      <td>nsa</td>\n",
       "      <td>1993.03</td>\n",
       "      <td>1993</td>\n",
       "      <td>3</td>\n",
       "      <td>166000</td>\n",
       "      <td>4.4</td>\n",
       "      <td>eu</td>\n",
       "      <td>Austria</td>\n",
       "    </tr>\n",
       "    <tr>\n",
       "      <th>3</th>\n",
       "      <td>at</td>\n",
       "      <td>nsa</td>\n",
       "      <td>1993.04</td>\n",
       "      <td>1993</td>\n",
       "      <td>4</td>\n",
       "      <td>157000</td>\n",
       "      <td>4.1</td>\n",
       "      <td>eu</td>\n",
       "      <td>Austria</td>\n",
       "    </tr>\n",
       "    <tr>\n",
       "      <th>4</th>\n",
       "      <td>at</td>\n",
       "      <td>nsa</td>\n",
       "      <td>1993.05</td>\n",
       "      <td>1993</td>\n",
       "      <td>5</td>\n",
       "      <td>147000</td>\n",
       "      <td>3.9</td>\n",
       "      <td>eu</td>\n",
       "      <td>Austria</td>\n",
       "    </tr>\n",
       "  </tbody>\n",
       "</table>\n",
       "</div>"
      ],
      "text/plain": [
       "  country seasonality  year_month  year  month  unemployment  \\\n",
       "0      at         nsa     1993.01  1993      1        171000   \n",
       "1      at         nsa     1993.02  1993      2        175000   \n",
       "2      at         nsa     1993.03  1993      3        166000   \n",
       "3      at         nsa     1993.04  1993      4        157000   \n",
       "4      at         nsa     1993.05  1993      5        147000   \n",
       "\n",
       "   unemployment_rate country_group  name_en  \n",
       "0                4.5            eu  Austria  \n",
       "1                4.6            eu  Austria  \n",
       "2                4.4            eu  Austria  \n",
       "3                4.1            eu  Austria  \n",
       "4                3.9            eu  Austria  "
      ]
     },
     "execution_count": 40,
     "metadata": {},
     "output_type": "execute_result"
    }
   ],
   "source": [
    "unemployment.head()"
   ]
  },
  {
   "cell_type": "markdown",
   "metadata": {},
   "source": [
    "Now that we know about the missing values, we have to deal with them. There are two main options:\n",
    "\n",
    "* fill the missing values with some other values\n",
    "* do not use observations with missing values\n",
    "    * depending on the analysis, we may want to exclude entire countries\n",
    "    \n",
    "Because countries with missing unemployment rate data have at least 36 missing values, which is too many to fill, we'll take the second approach and exclude missing values from our primary analyses.\n",
    "\n",
    "Instead of just getting rid of that data, it might make sense to store it in a separate `DataFrame`. This way, we could answer questions such as, \"do missing values occur during certain months (or years) more frequently?\" With this, we will introduce the concept of *boolean indexing* for filtering data."
   ]
  },
  {
   "cell_type": "code",
   "execution_count": 41,
   "metadata": {
    "collapsed": true
   },
   "outputs": [],
   "source": [
    "unemployment_rate_missing = unemployment[unemployment['unemployment_rate'].isnull()]"
   ]
  },
  {
   "cell_type": "markdown",
   "metadata": {},
   "source": [
    "Recall that `unemployment['unemployment_rate'].isnull()` produces an array of boolean values. We used this previously when counting the number of missing values, though we did not see its output. Let's see some of that now."
   ]
  },
  {
   "cell_type": "code",
   "execution_count": 42,
   "metadata": {
    "collapsed": false
   },
   "outputs": [
    {
     "data": {
      "text/plain": [
       "0    False\n",
       "1    False\n",
       "2    False\n",
       "3    False\n",
       "4    False\n",
       "5    False\n",
       "6    False\n",
       "7    False\n",
       "8    False\n",
       "9    False\n",
       "Name: unemployment_rate, dtype: bool"
      ]
     },
     "execution_count": 42,
     "metadata": {},
     "output_type": "execute_result"
    }
   ],
   "source": [
    "unemployment['unemployment_rate'].isnull()[:10]"
   ]
  },
  {
   "cell_type": "markdown",
   "metadata": {},
   "source": [
    "To create `unemployment_rate_missing`, we're indexing `unemployment` with the array above. This returns only the rows where the value in the array is `True`. Let's see if it worked."
   ]
  },
  {
   "cell_type": "code",
   "execution_count": 43,
   "metadata": {
    "collapsed": false
   },
   "outputs": [
    {
     "data": {
      "text/html": [
       "<div>\n",
       "<table border=\"1\" class=\"dataframe\">\n",
       "  <thead>\n",
       "    <tr style=\"text-align: right;\">\n",
       "      <th></th>\n",
       "      <th>country</th>\n",
       "      <th>seasonality</th>\n",
       "      <th>year_month</th>\n",
       "      <th>year</th>\n",
       "      <th>month</th>\n",
       "      <th>unemployment</th>\n",
       "      <th>unemployment_rate</th>\n",
       "      <th>country_group</th>\n",
       "      <th>name_en</th>\n",
       "    </tr>\n",
       "  </thead>\n",
       "  <tbody>\n",
       "    <tr>\n",
       "      <th>1656</th>\n",
       "      <td>bg</td>\n",
       "      <td>nsa</td>\n",
       "      <td>1995.01</td>\n",
       "      <td>1995</td>\n",
       "      <td>1</td>\n",
       "      <td>391000</td>\n",
       "      <td>NaN</td>\n",
       "      <td>eu</td>\n",
       "      <td>Bulgaria</td>\n",
       "    </tr>\n",
       "    <tr>\n",
       "      <th>1657</th>\n",
       "      <td>bg</td>\n",
       "      <td>nsa</td>\n",
       "      <td>1995.02</td>\n",
       "      <td>1995</td>\n",
       "      <td>2</td>\n",
       "      <td>387000</td>\n",
       "      <td>NaN</td>\n",
       "      <td>eu</td>\n",
       "      <td>Bulgaria</td>\n",
       "    </tr>\n",
       "    <tr>\n",
       "      <th>1658</th>\n",
       "      <td>bg</td>\n",
       "      <td>nsa</td>\n",
       "      <td>1995.03</td>\n",
       "      <td>1995</td>\n",
       "      <td>3</td>\n",
       "      <td>378000</td>\n",
       "      <td>NaN</td>\n",
       "      <td>eu</td>\n",
       "      <td>Bulgaria</td>\n",
       "    </tr>\n",
       "    <tr>\n",
       "      <th>1659</th>\n",
       "      <td>bg</td>\n",
       "      <td>nsa</td>\n",
       "      <td>1995.04</td>\n",
       "      <td>1995</td>\n",
       "      <td>4</td>\n",
       "      <td>365000</td>\n",
       "      <td>NaN</td>\n",
       "      <td>eu</td>\n",
       "      <td>Bulgaria</td>\n",
       "    </tr>\n",
       "    <tr>\n",
       "      <th>1660</th>\n",
       "      <td>bg</td>\n",
       "      <td>nsa</td>\n",
       "      <td>1995.05</td>\n",
       "      <td>1995</td>\n",
       "      <td>5</td>\n",
       "      <td>346000</td>\n",
       "      <td>NaN</td>\n",
       "      <td>eu</td>\n",
       "      <td>Bulgaria</td>\n",
       "    </tr>\n",
       "  </tbody>\n",
       "</table>\n",
       "</div>"
      ],
      "text/plain": [
       "     country seasonality  year_month  year  month  unemployment  \\\n",
       "1656      bg         nsa     1995.01  1995      1        391000   \n",
       "1657      bg         nsa     1995.02  1995      2        387000   \n",
       "1658      bg         nsa     1995.03  1995      3        378000   \n",
       "1659      bg         nsa     1995.04  1995      4        365000   \n",
       "1660      bg         nsa     1995.05  1995      5        346000   \n",
       "\n",
       "      unemployment_rate country_group   name_en  \n",
       "1656                NaN            eu  Bulgaria  \n",
       "1657                NaN            eu  Bulgaria  \n",
       "1658                NaN            eu  Bulgaria  \n",
       "1659                NaN            eu  Bulgaria  \n",
       "1660                NaN            eu  Bulgaria  "
      ]
     },
     "execution_count": 43,
     "metadata": {},
     "output_type": "execute_result"
    }
   ],
   "source": [
    "unemployment_rate_missing.head()"
   ]
  },
  {
   "cell_type": "markdown",
   "metadata": {},
   "source": [
    "It is also possible to specify multiple conditions using the `&` operator, but each condition needs to be inside of parentheses. The `.isin()` method, which takes a `list` of values, is useful when you're interested in conditioning on multiple values on a given column. For example, if you want to select multiple countries.\n",
    "\n",
    "Now, we're ready to remove the missing data in `unemployment`. To do this, we can use the `.dropna()` method."
   ]
  },
  {
   "cell_type": "code",
   "execution_count": 44,
   "metadata": {
    "collapsed": false
   },
   "outputs": [],
   "source": [
    "unemployment.dropna(subset=['unemployment_rate'], inplace=True)"
   ]
  },
  {
   "cell_type": "markdown",
   "metadata": {},
   "source": [
    "At this point, you might be curious to know what the highest unemployment rates were. For this, we'll use the `.sort()` method."
   ]
  },
  {
   "cell_type": "code",
   "execution_count": 45,
   "metadata": {
    "collapsed": false
   },
   "outputs": [
    {
     "data": {
      "text/html": [
       "<div>\n",
       "<table border=\"1\" class=\"dataframe\">\n",
       "  <thead>\n",
       "    <tr style=\"text-align: right;\">\n",
       "      <th></th>\n",
       "      <th>country</th>\n",
       "      <th>seasonality</th>\n",
       "      <th>year_month</th>\n",
       "      <th>year</th>\n",
       "      <th>month</th>\n",
       "      <th>unemployment</th>\n",
       "      <th>unemployment_rate</th>\n",
       "      <th>country_group</th>\n",
       "      <th>name_en</th>\n",
       "    </tr>\n",
       "  </thead>\n",
       "  <tbody>\n",
       "    <tr>\n",
       "      <th>15526</th>\n",
       "      <td>pl</td>\n",
       "      <td>nsa</td>\n",
       "      <td>2004.02</td>\n",
       "      <td>2004</td>\n",
       "      <td>2</td>\n",
       "      <td>3531000</td>\n",
       "      <td>20.9</td>\n",
       "      <td>eu</td>\n",
       "      <td>Poland</td>\n",
       "    </tr>\n",
       "    <tr>\n",
       "      <th>15525</th>\n",
       "      <td>pl</td>\n",
       "      <td>nsa</td>\n",
       "      <td>2004.01</td>\n",
       "      <td>2004</td>\n",
       "      <td>1</td>\n",
       "      <td>3520000</td>\n",
       "      <td>20.7</td>\n",
       "      <td>eu</td>\n",
       "      <td>Poland</td>\n",
       "    </tr>\n",
       "    <tr>\n",
       "      <th>15514</th>\n",
       "      <td>pl</td>\n",
       "      <td>nsa</td>\n",
       "      <td>2003.02</td>\n",
       "      <td>2003</td>\n",
       "      <td>2</td>\n",
       "      <td>3460000</td>\n",
       "      <td>20.7</td>\n",
       "      <td>eu</td>\n",
       "      <td>Poland</td>\n",
       "    </tr>\n",
       "    <tr>\n",
       "      <th>5663</th>\n",
       "      <td>es</td>\n",
       "      <td>sa</td>\n",
       "      <td>2010.09</td>\n",
       "      <td>2010</td>\n",
       "      <td>9</td>\n",
       "      <td>4773000</td>\n",
       "      <td>20.6</td>\n",
       "      <td>eu</td>\n",
       "      <td>Spain</td>\n",
       "    </tr>\n",
       "    <tr>\n",
       "      <th>15527</th>\n",
       "      <td>pl</td>\n",
       "      <td>nsa</td>\n",
       "      <td>2004.03</td>\n",
       "      <td>2004</td>\n",
       "      <td>3</td>\n",
       "      <td>3475000</td>\n",
       "      <td>20.6</td>\n",
       "      <td>eu</td>\n",
       "      <td>Poland</td>\n",
       "    </tr>\n",
       "  </tbody>\n",
       "</table>\n",
       "</div>"
      ],
      "text/plain": [
       "      country seasonality  year_month  year  month  unemployment  \\\n",
       "15526      pl         nsa     2004.02  2004      2       3531000   \n",
       "15525      pl         nsa     2004.01  2004      1       3520000   \n",
       "15514      pl         nsa     2003.02  2003      2       3460000   \n",
       "5663       es          sa     2010.09  2010      9       4773000   \n",
       "15527      pl         nsa     2004.03  2004      3       3475000   \n",
       "\n",
       "       unemployment_rate country_group name_en  \n",
       "15526               20.9            eu  Poland  \n",
       "15525               20.7            eu  Poland  \n",
       "15514               20.7            eu  Poland  \n",
       "5663                20.6            eu   Spain  \n",
       "15527               20.6            eu  Poland  "
      ]
     },
     "execution_count": 45,
     "metadata": {},
     "output_type": "execute_result"
    }
   ],
   "source": [
    "unemployment.sort('unemployment_rate', ascending=False)[:5]"
   ]
  },
  {
   "cell_type": "markdown",
   "metadata": {},
   "source": [
    "The above code creates a copy of the `DataFrame`, sorts it in *descending* order, and prints the first five rows.\n",
    "\n",
    "You may have noticed that the data set includes a `seasonality` column, which we haven't yet discussed. The unemployment rate in this data is actually calculated in three separate ways. Let's look at the values."
   ]
  },
  {
   "cell_type": "code",
   "execution_count": 46,
   "metadata": {
    "collapsed": false
   },
   "outputs": [
    {
     "data": {
      "text/plain": [
       "array(['nsa', 'sa', 'trend'], dtype=object)"
      ]
     },
     "execution_count": 46,
     "metadata": {},
     "output_type": "execute_result"
    }
   ],
   "source": [
    "unemployment['seasonality'].unique()"
   ]
  },
  {
   "cell_type": "markdown",
   "metadata": {},
   "source": [
    "The three options above correspond to:\n",
    "\n",
    "* not seasonally adjusted\n",
    "* seasonally adjusted\n",
    "* trend cycle\n",
    "\n",
    "We'll stick with seasonally adjusted data so that the values are more comparable. Let's look at the highest unemployment rates in this context."
   ]
  },
  {
   "cell_type": "code",
   "execution_count": 47,
   "metadata": {
    "collapsed": false
   },
   "outputs": [
    {
     "data": {
      "text/html": [
       "<div>\n",
       "<table border=\"1\" class=\"dataframe\">\n",
       "  <thead>\n",
       "    <tr style=\"text-align: right;\">\n",
       "      <th></th>\n",
       "      <th>country</th>\n",
       "      <th>seasonality</th>\n",
       "      <th>year_month</th>\n",
       "      <th>year</th>\n",
       "      <th>month</th>\n",
       "      <th>unemployment</th>\n",
       "      <th>unemployment_rate</th>\n",
       "      <th>country_group</th>\n",
       "      <th>name_en</th>\n",
       "    </tr>\n",
       "  </thead>\n",
       "  <tbody>\n",
       "    <tr>\n",
       "      <th>5664</th>\n",
       "      <td>es</td>\n",
       "      <td>sa</td>\n",
       "      <td>2010.10</td>\n",
       "      <td>2010</td>\n",
       "      <td>10</td>\n",
       "      <td>4758000</td>\n",
       "      <td>20.6</td>\n",
       "      <td>eu</td>\n",
       "      <td>Spain</td>\n",
       "    </tr>\n",
       "    <tr>\n",
       "      <th>5663</th>\n",
       "      <td>es</td>\n",
       "      <td>sa</td>\n",
       "      <td>2010.09</td>\n",
       "      <td>2010</td>\n",
       "      <td>9</td>\n",
       "      <td>4773000</td>\n",
       "      <td>20.6</td>\n",
       "      <td>eu</td>\n",
       "      <td>Spain</td>\n",
       "    </tr>\n",
       "    <tr>\n",
       "      <th>5662</th>\n",
       "      <td>es</td>\n",
       "      <td>sa</td>\n",
       "      <td>2010.08</td>\n",
       "      <td>2010</td>\n",
       "      <td>8</td>\n",
       "      <td>4739000</td>\n",
       "      <td>20.5</td>\n",
       "      <td>eu</td>\n",
       "      <td>Spain</td>\n",
       "    </tr>\n",
       "    <tr>\n",
       "      <th>5665</th>\n",
       "      <td>es</td>\n",
       "      <td>sa</td>\n",
       "      <td>2010.11</td>\n",
       "      <td>2010</td>\n",
       "      <td>11</td>\n",
       "      <td>4723000</td>\n",
       "      <td>20.4</td>\n",
       "      <td>eu</td>\n",
       "      <td>Spain</td>\n",
       "    </tr>\n",
       "    <tr>\n",
       "      <th>15702</th>\n",
       "      <td>pl</td>\n",
       "      <td>sa</td>\n",
       "      <td>2002.10</td>\n",
       "      <td>2002</td>\n",
       "      <td>10</td>\n",
       "      <td>3471000</td>\n",
       "      <td>20.3</td>\n",
       "      <td>eu</td>\n",
       "      <td>Poland</td>\n",
       "    </tr>\n",
       "  </tbody>\n",
       "</table>\n",
       "</div>"
      ],
      "text/plain": [
       "      country seasonality  year_month  year  month  unemployment  \\\n",
       "5664       es          sa     2010.10  2010     10       4758000   \n",
       "5663       es          sa     2010.09  2010      9       4773000   \n",
       "5662       es          sa     2010.08  2010      8       4739000   \n",
       "5665       es          sa     2010.11  2010     11       4723000   \n",
       "15702      pl          sa     2002.10  2002     10       3471000   \n",
       "\n",
       "       unemployment_rate country_group name_en  \n",
       "5664                20.6            eu   Spain  \n",
       "5663                20.6            eu   Spain  \n",
       "5662                20.5            eu   Spain  \n",
       "5665                20.4            eu   Spain  \n",
       "15702               20.3            eu  Poland  "
      ]
     },
     "execution_count": 47,
     "metadata": {},
     "output_type": "execute_result"
    }
   ],
   "source": [
    "unemployment[unemployment['seasonality'] == 'sa'].sort('unemployment_rate', ascending=False)[:5]"
   ]
  },
  {
   "cell_type": "markdown",
   "metadata": {},
   "source": [
    "Spain has the highest seasonally adjusted unemployment rate.\n",
    "\n",
    "The best way to get a sense of this data is to plot it. Next, we'll start to look at some basic plotting with `pandas`. Before we begin, let's sort the data by country and date. This is good practice and is especially important when using `pandas`'s `.plot()` method because the x-axis values are based on the indices. When we sort, the index values remain unchanged. Thus, we need to reset them. The `drop` parameter tells `pandas` to construct a `DataFrame` *without* adding a column."
   ]
  },
  {
   "cell_type": "code",
   "execution_count": 48,
   "metadata": {
    "collapsed": true
   },
   "outputs": [],
   "source": [
    "unemployment.sort(['name_en', 'year_month'], inplace=True)\n",
    "unemployment.reset_index(drop=True, inplace=True)"
   ]
  },
  {
   "cell_type": "markdown",
   "metadata": {},
   "source": [
    "Let's take a look at Spain's unemployment rate (only because it was the highest) across time."
   ]
  },
  {
   "cell_type": "code",
   "execution_count": 49,
   "metadata": {
    "collapsed": false
   },
   "outputs": [],
   "source": [
    "spain = unemployment[(unemployment['name_en'] == 'Spain') &\n",
    "                     (unemployment['seasonality'] == 'sa')]"
   ]
  },
  {
   "cell_type": "code",
   "execution_count": 50,
   "metadata": {
    "collapsed": false
   },
   "outputs": [
    {
     "data": {
      "text/plain": [
       "<matplotlib.axes._subplots.AxesSubplot at 0x1131d62b0>"
      ]
     },
     "execution_count": 50,
     "metadata": {},
     "output_type": "execute_result"
    },
    {
     "data": {
      "image/png": "[encoded data removed]",
      "text/plain": [
       "<matplotlib.figure.Figure at 0x1131e4208>"
      ]
     },
     "metadata": {},
     "output_type": "display_data"
    }
   ],
   "source": [
    "spain['unemployment_rate'].plot(figsize=(10, 8))"
   ]
  },
  {
   "cell_type": "markdown",
   "metadata": {},
   "source": [
    "Note that the values along the x-axis represent the indices associated with Spain in the sorted `unemployment` `DataFrame`. Wouldn't it be nice if, instead, we could show the time period associated with the various unemployment rates for Spain? It might also be interesting to compare Spain's unemployment rate with its neighbor to the west, Portugal.\n",
    "\n",
    "Let's first create a `DataFrame` that contains the unemployment data for both countries."
   ]
  },
  {
   "cell_type": "code",
   "execution_count": 51,
   "metadata": {
    "collapsed": true
   },
   "outputs": [],
   "source": [
    "ps = unemployment[(unemployment['name_en'].isin(['Portugal', 'Spain'])) &\n",
    "                  (unemployment['seasonality'] == 'sa')]"
   ]
  },
  {
   "cell_type": "markdown",
   "metadata": {},
   "source": [
    "Next, we'll add a `datetime` object. `pandas` provides a `to_datetime()` function that makes this relatively simple. It converts an argument&mdash;a single value or an array of values&mdash;to `datetime`. (Note that the return value [depends on the input](http://pandas.pydata.org/pandas-docs/stable/generated/pandas.to_datetime.html).) If we were interested in March 23, 1868, for example, we could do the following."
   ]
  },
  {
   "cell_type": "code",
   "execution_count": 52,
   "metadata": {
    "collapsed": false
   },
   "outputs": [
    {
     "data": {
      "text/plain": [
       "Timestamp('1868-03-23 00:00:00')"
      ]
     },
     "execution_count": 52,
     "metadata": {},
     "output_type": "execute_result"
    }
   ],
   "source": [
    "pd.to_datetime('1868/3/23')"
   ]
  },
  {
   "cell_type": "markdown",
   "metadata": {},
   "source": [
    "The argument doesn't necessarily have to be specified in the `yyyy/mm/dd` format. You could list it as `mm/dd/yyyy`, but it's a good idea to be explicit. As a result, we pass in a valid string format."
   ]
  },
  {
   "cell_type": "code",
   "execution_count": 53,
   "metadata": {
    "collapsed": false
   },
   "outputs": [
    {
     "data": {
      "text/plain": [
       "Timestamp('1868-03-23 00:00:00')"
      ]
     },
     "execution_count": 53,
     "metadata": {},
     "output_type": "execute_result"
    }
   ],
   "source": [
    "pd.to_datetime('3/23/1868', format='%m/%d/%Y')"
   ]
  },
  {
   "cell_type": "markdown",
   "metadata": {},
   "source": [
    "Let's create the `datetime` object and add it to the `DataFrame` as a column named `date`. For this, we'll use the `.insert()` method."
   ]
  },
  {
   "cell_type": "code",
   "execution_count": 54,
   "metadata": {
    "collapsed": false
   },
   "outputs": [],
   "source": [
    "ps.insert(loc=0, column='date',\n",
    "          value=pd.to_datetime(ps['year'].astype(str) + '/' + ps['month'].astype(str) + '/1'))"
   ]
  },
  {
   "cell_type": "markdown",
   "metadata": {},
   "source": [
    "Finally, let's only keep certain columns, rename them, and reshape the `DataFrame`."
   ]
  },
  {
   "cell_type": "code",
   "execution_count": 55,
   "metadata": {
    "collapsed": false
   },
   "outputs": [
    {
     "data": {
      "text/html": [
       "<div>\n",
       "<table border=\"1\" class=\"dataframe\">\n",
       "  <thead>\n",
       "    <tr style=\"text-align: right;\">\n",
       "      <th>Country</th>\n",
       "      <th>Portugal</th>\n",
       "      <th>Spain</th>\n",
       "    </tr>\n",
       "    <tr>\n",
       "      <th>Time Period</th>\n",
       "      <th></th>\n",
       "      <th></th>\n",
       "    </tr>\n",
       "  </thead>\n",
       "  <tbody>\n",
       "    <tr>\n",
       "      <th>2010-08-01</th>\n",
       "      <td>11.1</td>\n",
       "      <td>20.5</td>\n",
       "    </tr>\n",
       "    <tr>\n",
       "      <th>2010-09-01</th>\n",
       "      <td>11.1</td>\n",
       "      <td>20.6</td>\n",
       "    </tr>\n",
       "    <tr>\n",
       "      <th>2010-10-01</th>\n",
       "      <td>11.0</td>\n",
       "      <td>20.6</td>\n",
       "    </tr>\n",
       "    <tr>\n",
       "      <th>2010-11-01</th>\n",
       "      <td>10.9</td>\n",
       "      <td>20.4</td>\n",
       "    </tr>\n",
       "    <tr>\n",
       "      <th>2010-12-01</th>\n",
       "      <td>10.9</td>\n",
       "      <td>20.2</td>\n",
       "    </tr>\n",
       "  </tbody>\n",
       "</table>\n",
       "</div>"
      ],
      "text/plain": [
       "Country      Portugal  Spain\n",
       "Time Period                 \n",
       "2010-08-01       11.1   20.5\n",
       "2010-09-01       11.1   20.6\n",
       "2010-10-01       11.0   20.6\n",
       "2010-11-01       10.9   20.4\n",
       "2010-12-01       10.9   20.2"
      ]
     },
     "execution_count": 55,
     "metadata": {},
     "output_type": "execute_result"
    }
   ],
   "source": [
    "ps = ps[['date', 'name_en', 'unemployment_rate']]\n",
    "ps.columns = ['Time Period', 'Country', 'Unemployment Rate']\n",
    "ps = ps.pivot(index='Time Period', columns='Country', values='Unemployment Rate')\n",
    "ps.tail()"
   ]
  },
  {
   "cell_type": "markdown",
   "metadata": {},
   "source": [
    "Notice the indices."
   ]
  },
  {
   "cell_type": "code",
   "execution_count": 56,
   "metadata": {
    "collapsed": false
   },
   "outputs": [
    {
     "data": {
      "text/plain": [
       "<matplotlib.axes._subplots.AxesSubplot at 0x113d3e198>"
      ]
     },
     "execution_count": 56,
     "metadata": {},
     "output_type": "execute_result"
    },
    {
     "data": {
      "image/png": "[encoded data removed]",
      "text/plain": [
       "<matplotlib.figure.Figure at 0x113b81fd0>"
      ]
     },
     "metadata": {},
     "output_type": "display_data"
    }
   ],
   "source": [
    "ps.plot(figsize=(10, 8), title='Unemployment Rate\\n')"
   ]
  },
  {
   "cell_type": "code",
   "execution_count": null,
   "metadata": {
    "collapsed": true
   },
   "outputs": [],
   "source": []
  }
 ],
 "metadata": {
  "kernelspec": {
   "display_name": "Python 3",
   "language": "python",
   "name": "python3"
  },
  "language_info": {
   "codemirror_mode": {
    "name": "ipython",
    "version": 3
   },
   "file_extension": ".py",
   "mimetype": "text/x-python",
   "name": "python",
   "nbconvert_exporter": "python",
   "pygments_lexer": "ipython3",
   "version": "3.4.2"
  }
 },
 "nbformat": 4,
 "nbformat_minor": 0
}
